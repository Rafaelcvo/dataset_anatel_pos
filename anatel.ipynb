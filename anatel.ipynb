{
 "cells": [
  {
   "cell_type": "markdown",
   "metadata": {},
   "source": [
    "<h1>Analíse de dados sobre reclamações registradas na Anatel</h1>"
   ]
  },
  {
   "cell_type": "markdown",
   "metadata": {},
   "source": [
    "<p>O trabalho a seguir busca fazer uma analíse dos dados sobre os registros de reclamações, denúncias, pedidos de informação e sugestões em relação às operadoras e à Anatel.\n",
    "<p>O dataset utilizado para a analíse esta dispónivel no link http://dados.gov.br/dataset/solicitacoesregistradasnaanatel </p>\n",
    "<p>O trabalho consiste em abordar as seguintes questões:\n",
    "<ol>\n",
    "    <li>Operadoras com mais reclamações (nacional) nos 3 últimos anos(2016, 2017, 2018 ).</li>\n",
    "    <li>Operadoras com mais reclamações por estado nos 3 últimos anos(2016, 2017, 2018 ).</li>\n",
    "    <li>Ranking dos tipos de serviços com maiores reclamações por operadora, nos 3 últimos anos (2016, 2017, 2018 ).</li>\n",
    "    <li>Canais utilizados para reclamações da Anatel (telefone, site, etc.) nos 3 últimos anos(2016, 2017, 2018 ). </li>\n",
    "    <li>As 10 maiores reclamações dos consumidores nos 3 últimos anos(2016, 2017, 2018 ).</li>\n",
    "    <li>Período de maior número de reclamações (se primeiro ou segundo semestre).</li>\n",
    "</ol>\n",
    "\n",
    "<p>Informações adicionais:</p>\n",
    "\n",
    "| Campo            | Valor                                                        |  \n",
    "|------------------|--------------------------------------------------------------|\n",
    "|Autor             |Agência Nacional de Telecomunicações - Anatel                 |   \n",
    "|Mantenedor        | Gerência de Tratamento de Solicitações de Consumidores - RCTS|   \n",
    "|Última Atualização| 8 de Maio de 2019, 17:28 (UTC-03:00)                         |  \n",
    "|Criado            |16 de Novembro de 2017, 14:34 (UTC-02:00)                     | \n",
    "|Granularidade     |mensal                                                        |\n"
   ]
  },
  {
   "cell_type": "code",
   "execution_count": 1,
   "metadata": {},
   "outputs": [],
   "source": [
    "#importando as bibliotecas\n",
    "import numpy as np\n",
    "import pandas as pd"
   ]
  },
  {
   "cell_type": "markdown",
   "metadata": {},
   "source": [
    "Os datasets da Anatel estão divididos por estados e anos. Então foi preciso unir todos os datasets dos estados de acordo com cada ano."
   ]
  },
  {
   "cell_type": "code",
   "execution_count": 2,
   "metadata": {},
   "outputs": [],
   "source": [
    "#Importando os datasets do ano de 2016\n",
    "\n",
    "df_ac2016 = pd.read_csv('dataset/Solicitações Registradas na Anatel (2016-AC).csv', sep=';', encoding='latin-1')\n",
    "df_al2016 = pd.read_csv('dataset/Solicitações Registradas na Anatel (2016-AL).csv', sep=';',encoding='latin-1')\n",
    "df_am2016 = pd.read_csv('dataset/Solicitações Registradas na Anatel (2016-AM).csv', sep=';',encoding='latin-1')\n",
    "df_ap2016 = pd.read_csv('dataset/Solicitações Registradas na Anatel (2016-AP).csv', sep=';',encoding='latin-1')\n",
    "df_ba2016 = pd.read_csv('dataset/Solicitações Registradas na Anatel (2016-BA).csv', sep=';',encoding='latin-1')\n",
    "df_ce2016 = pd.read_csv('dataset/Solicitações Registradas na Anatel (2016-CE).csv', sep=';',encoding='latin-1')\n",
    "df_df2016 = pd.read_csv('dataset/Solicitações Registradas na Anatel (2016-DF).csv', sep=';',encoding='latin-1')\n",
    "df_es2016 = pd.read_csv('dataset/Solicitações Registradas na Anatel (2016-ES).csv', sep=';',encoding='latin-1')\n",
    "df_go2016 = pd.read_csv('dataset/Solicitações Registradas na Anatel (2016-ES).csv', sep=';',encoding='latin-1')\n",
    "df_ma2016 = pd.read_csv('dataset/Solicitações Registradas na Anatel (2016-MA).csv', sep=';',encoding='latin-1')\n",
    "df_mg2016 = pd.read_csv('dataset/Solicitações Registradas na Anatel (2016-MG).csv', sep=';',encoding='latin-1')\n",
    "df_ms2016 = pd.read_csv('dataset/Solicitações Registradas na Anatel (2016-MS).csv', sep=';',encoding='latin-1')\n",
    "df_mt2016 = pd.read_csv('dataset/Solicitações Registradas na Anatel (2016-MT).csv', sep=';',encoding='latin-1')\n",
    "df_nd2016 = pd.read_csv('dataset/Solicitações Registradas na Anatel (2016-ND).csv', sep=';',encoding='latin-1')\n",
    "df_pa2016 = pd.read_csv('dataset/Solicitações Registradas na Anatel (2016-PA).csv', sep=';',encoding='latin-1')\n",
    "df_pb2016 = pd.read_csv('dataset/Solicitações Registradas na Anatel (2016-PB).csv', sep=';',encoding='latin-1')\n",
    "df_pe2016 = pd.read_csv('dataset/Solicitações Registradas na Anatel (2016-PE).csv', sep=';',encoding='latin-1')\n",
    "df_pi2016 = pd.read_csv('dataset/Solicitações Registradas na Anatel (2016-PI).csv', sep=';',encoding='latin-1')\n",
    "df_pr2016 = pd.read_csv('dataset/Solicitações Registradas na Anatel (2016-PR).csv', sep=';',encoding='latin-1')\n",
    "df_rj2016 = pd.read_csv('dataset/Solicitações Registradas na Anatel (2016-RJ).csv', sep=';',encoding='latin-1')\n",
    "df_rn2016 = pd.read_csv('dataset/Solicitações Registradas na Anatel (2016-RN).csv', sep=';',encoding='latin-1')\n",
    "df_ro2016 = pd.read_csv('dataset/Solicitações Registradas na Anatel (2016-RO).csv', sep=';',encoding='latin-1')\n",
    "df_rr2016 = pd.read_csv('dataset/Solicitações Registradas na Anatel (2016-RR).csv', sep=';',encoding='latin-1')\n",
    "df_rs2016 = pd.read_csv('dataset/Solicitações Registradas na Anatel (2016-RS).csv', sep=';',encoding='latin-1')\n",
    "df_sc2016 = pd.read_csv('dataset/Solicitações Registradas na Anatel (2016-SC).csv', sep=';',encoding='latin-1')\n",
    "df_se2016 = pd.read_csv('dataset/Solicitações Registradas na Anatel (2016-SE).csv', sep=';',encoding='latin-1')\n",
    "df_sp2016 = pd.read_csv('dataset/Solicitações Registradas na Anatel (2016-SP).csv', sep=';',encoding='latin-1')\n",
    "df_to2016 = pd.read_csv('dataset/Solicitações Registradas na Anatel (2016-TO).csv', sep=';',encoding='latin-1')\n",
    "\n",
    "#Importando os datasets do ano de 2017\n",
    "\n",
    "df_ac2017 = pd.read_csv('dataset/Solicitações Registradas na Anatel (2017-AC).csv', sep=';', encoding='latin-1')\n",
    "df_al2017 = pd.read_csv('dataset/Solicitações Registradas na Anatel (2017-AL).csv', sep=';',encoding='latin-1')\n",
    "df_am2017 = pd.read_csv('dataset/Solicitações Registradas na Anatel (2017-AM).csv', sep=';',encoding='latin-1')\n",
    "df_ap2017 = pd.read_csv('dataset/Solicitações Registradas na Anatel (2017-AP).csv', sep=';',encoding='latin-1')\n",
    "df_ba2017 = pd.read_csv('dataset/Solicitações Registradas na Anatel (2017-BA).csv', sep=';',encoding='latin-1')\n",
    "df_ce2017 = pd.read_csv('dataset/Solicitações Registradas na Anatel (2017-CE).csv', sep=';',encoding='latin-1')\n",
    "df_df2017 = pd.read_csv('dataset/Solicitações Registradas na Anatel (2017-DF).csv', sep=';',encoding='latin-1')\n",
    "df_es2017 = pd.read_csv('dataset/Solicitações Registradas na Anatel (2017-ES).csv', sep=';',encoding='latin-1')\n",
    "df_go2017 = pd.read_csv('dataset/Solicitações Registradas na Anatel (2017-ES).csv', sep=';',encoding='latin-1')\n",
    "df_ma2017 = pd.read_csv('dataset/Solicitações Registradas na Anatel (2017-MA).csv', sep=';',encoding='latin-1')\n",
    "df_mg2017 = pd.read_csv('dataset/Solicitações Registradas na Anatel (2017-MG).csv', sep=';',encoding='latin-1')\n",
    "df_ms2017 = pd.read_csv('dataset/Solicitações Registradas na Anatel (2017-MS).csv', sep=';',encoding='latin-1')\n",
    "df_mt2017 = pd.read_csv('dataset/Solicitações Registradas na Anatel (2017-MT).csv', sep=';',encoding='latin-1')\n",
    "df_nd2017 = pd.read_csv('dataset/Solicitações Registradas na Anatel (2017-ND).csv', sep=';',encoding='latin-1')\n",
    "df_pa2017 = pd.read_csv('dataset/Solicitações Registradas na Anatel (2017-PA).csv', sep=';',encoding='latin-1')\n",
    "df_pb2017 = pd.read_csv('dataset/Solicitações Registradas na Anatel (2017-PB).csv', sep=';',encoding='latin-1')\n",
    "df_pe2017 = pd.read_csv('dataset/Solicitações Registradas na Anatel (2017-PE).csv', sep=';',encoding='latin-1')\n",
    "df_pi2017 = pd.read_csv('dataset/Solicitações Registradas na Anatel (2017-PI).csv', sep=';',encoding='latin-1')\n",
    "df_pr2017 = pd.read_csv('dataset/Solicitações Registradas na Anatel (2017-PR).csv', sep=';',encoding='latin-1')\n",
    "df_rj2017 = pd.read_csv('dataset/Solicitações Registradas na Anatel (2017-RJ).csv', sep=';',encoding='latin-1')\n",
    "df_rn2017 = pd.read_csv('dataset/Solicitações Registradas na Anatel (2017-RN).csv', sep=';',encoding='latin-1')\n",
    "df_ro2017 = pd.read_csv('dataset/Solicitações Registradas na Anatel (2017-RO).csv', sep=';',encoding='latin-1')\n",
    "df_rr2017 = pd.read_csv('dataset/Solicitações Registradas na Anatel (2017-RR).csv', sep=';',encoding='latin-1')\n",
    "df_rs2017 = pd.read_csv('dataset/Solicitações Registradas na Anatel (2017-RS).csv', sep=';',encoding='latin-1')\n",
    "df_sc2017 = pd.read_csv('dataset/Solicitações Registradas na Anatel (2017-SC).csv', sep=';',encoding='latin-1')\n",
    "df_se2017 = pd.read_csv('dataset/Solicitações Registradas na Anatel (2017-SE).csv', sep=';',encoding='latin-1')\n",
    "df_sp2017 = pd.read_csv('dataset/Solicitações Registradas na Anatel (2017-SP).csv', sep=';',encoding='latin-1')\n",
    "df_to2017 = pd.read_csv('dataset/Solicitações Registradas na Anatel (2017-TO).csv', sep=';',encoding='latin-1')\n",
    "\n",
    "#Importando os datasets do ano de 2018\n",
    "\n",
    "df_ac2018 = pd.read_csv('dataset/Solicitações Registradas na Anatel (2018-AC).csv', sep=';', encoding='latin-1')\n",
    "df_al2018 = pd.read_csv('dataset/Solicitações Registradas na Anatel (2018-AL).csv', sep=';',encoding='latin-1')\n",
    "df_am2018 = pd.read_csv('dataset/Solicitações Registradas na Anatel (2018-AM).csv', sep=';',encoding='latin-1')\n",
    "df_ap2018 = pd.read_csv('dataset/Solicitações Registradas na Anatel (2018-AP).csv', sep=';',encoding='latin-1')\n",
    "df_ba2018 = pd.read_csv('dataset/Solicitações Registradas na Anatel (2018-BA).csv', sep=';',encoding='latin-1')\n",
    "df_ce2018 = pd.read_csv('dataset/Solicitações Registradas na Anatel (2018-CE).csv', sep=';',encoding='latin-1')\n",
    "df_df2018 = pd.read_csv('dataset/Solicitações Registradas na Anatel (2018-DF).csv', sep=';',encoding='latin-1')\n",
    "df_es2018 = pd.read_csv('dataset/Solicitações Registradas na Anatel (2018-ES).csv', sep=';',encoding='latin-1')\n",
    "df_go2018 = pd.read_csv('dataset/Solicitações Registradas na Anatel (2018-ES).csv', sep=';',encoding='latin-1')\n",
    "df_ma2018 = pd.read_csv('dataset/Solicitações Registradas na Anatel (2018-MA).csv', sep=';',encoding='latin-1')\n",
    "df_mg2018 = pd.read_csv('dataset/Solicitações Registradas na Anatel (2018-MG).csv', sep=';',encoding='latin-1')\n",
    "df_ms2018 = pd.read_csv('dataset/Solicitações Registradas na Anatel (2018-MS).csv', sep=';',encoding='latin-1')\n",
    "df_mt2018 = pd.read_csv('dataset/Solicitações Registradas na Anatel (2018-MT).csv', sep=';',encoding='latin-1')\n",
    "df_nd2018 = pd.read_csv('dataset/Solicitações Registradas na Anatel (2018-ND).csv', sep=';',encoding='latin-1')\n",
    "df_pa2018 = pd.read_csv('dataset/Solicitações Registradas na Anatel (2018-PA).csv', sep=';',encoding='latin-1')\n",
    "df_pb2018 = pd.read_csv('dataset/Solicitações Registradas na Anatel (2018-PB).csv', sep=';',encoding='latin-1')\n",
    "df_pe2018 = pd.read_csv('dataset/Solicitações Registradas na Anatel (2018-PE).csv', sep=';',encoding='latin-1')\n",
    "df_pi2018 = pd.read_csv('dataset/Solicitações Registradas na Anatel (2018-PI).csv', sep=';',encoding='latin-1')\n",
    "df_pr2018 = pd.read_csv('dataset/Solicitações Registradas na Anatel (2018-PR).csv', sep=';',encoding='latin-1')\n",
    "df_rj2018 = pd.read_csv('dataset/Solicitações Registradas na Anatel (2018-RJ).csv', sep=';',encoding='latin-1')\n",
    "df_rn2018 = pd.read_csv('dataset/Solicitações Registradas na Anatel (2018-RN).csv', sep=';',encoding='latin-1')\n",
    "df_ro2018 = pd.read_csv('dataset/Solicitações Registradas na Anatel (2018-RO).csv', sep=';',encoding='latin-1')\n",
    "df_rr2018 = pd.read_csv('dataset/Solicitações Registradas na Anatel (2018-RR).csv', sep=';',encoding='latin-1')\n",
    "df_rs2018 = pd.read_csv('dataset/Solicitações Registradas na Anatel (2018-RS).csv', sep=';',encoding='latin-1')\n",
    "df_sc2018 = pd.read_csv('dataset/Solicitações Registradas na Anatel (2018-SC).csv', sep=';',encoding='latin-1')\n",
    "df_se2018 = pd.read_csv('dataset/Solicitações Registradas na Anatel (2018-SE).csv', sep=';',encoding='latin-1')\n",
    "df_sp2018 = pd.read_csv('dataset/Solicitações Registradas na Anatel (2018-SP).csv', sep=';',encoding='latin-1')\n",
    "df_to2018 = pd.read_csv('dataset/Solicitações Registradas na Anatel (2018-TO).csv', sep=';',encoding='latin-1')"
   ]
  },
  {
   "cell_type": "code",
   "execution_count": 3,
   "metadata": {},
   "outputs": [],
   "source": [
    "#Foi criado um dataset unico com os anos de 2016,2017 e 2018.\n",
    "\n",
    "df_anatel = pd.concat([df_ac2016,df_al2016,df_am2016,df_ap2016,df_ba2016,df_ce2016,df_df2016,df_es2016,\n",
    "                           df_go2016,df_ma2016,df_mg2016,df_ms2016,df_mt2016,df_nd2016,df_pa2016,df_pb2016,\n",
    "                           df_pe2016,df_pi2016,df_pr2016,df_rj2016,df_rn2016,df_ro2016,df_rr2016,df_rs2016,\n",
    "                           df_sc2016,df_se2016,df_sp2016,df_to2016,df_ac2017,df_al2017,df_am2017,df_ap2017,\n",
    "                           df_ba2017,df_ce2017,df_df2017,df_es2017,df_go2017,df_ma2017,df_mg2017,df_ms2017,\n",
    "                           df_mt2017,df_nd2017,df_pa2017,df_pb2017,df_pe2017,df_pi2017,df_pr2017,df_rj2017,\n",
    "                           df_rn2017,df_ro2017,df_rr2017,df_rs2017,df_sc2017,df_se2017,df_sp2017,df_to2017,\n",
    "                           df_ac2018,df_al2018,df_am2018,df_ap2018,df_ba2018,df_ce2018,df_df2018,df_es2018,\n",
    "                           df_go2018,df_ma2018,df_mg2018,df_ms2018,df_mt2018,df_nd2018,df_pa2018,df_pb2018,\n",
    "                           df_pe2018,df_pi2018,df_pr2018,df_rj2018,df_rn2018,df_ro2018,df_rr2018,df_rs2018,\n",
    "                           df_sc2018,df_se2018,df_sp2018,df_to2018])"
   ]
  },
  {
   "cell_type": "markdown",
   "metadata": {},
   "source": [
    "## Inciando o tratamento dos dados"
   ]
  },
  {
   "cell_type": "code",
   "execution_count": 4,
   "metadata": {},
   "outputs": [
    {
     "data": {
      "text/plain": [
       "DataExtracao     0\n",
       "Ano              0\n",
       "Mes              0\n",
       "CanalEntrada     0\n",
       "Condicao         0\n",
       "GrupoEconNorm    0\n",
       "Tipo             0\n",
       "Servico          0\n",
       "Modalidade       0\n",
       "Motivo           0\n",
       "UF               0\n",
       "QtdeSolic        0\n",
       "dtype: int64"
      ]
     },
     "execution_count": 4,
     "metadata": {},
     "output_type": "execute_result"
    }
   ],
   "source": [
    "#verificando a quantidade de dados nulos.\n",
    "df_anatel.isna().sum()"
   ]
  },
  {
   "cell_type": "code",
   "execution_count": 5,
   "metadata": {},
   "outputs": [
    {
     "data": {
      "text/plain": [
       "Index(['DataExtracao', 'Ano', 'Mes', 'CanalEntrada', 'Condicao',\n",
       "       'GrupoEconNorm', 'Tipo', 'Servico', 'Modalidade', 'Motivo', 'UF',\n",
       "       'QtdeSolic'],\n",
       "      dtype='object')"
      ]
     },
     "execution_count": 5,
     "metadata": {},
     "output_type": "execute_result"
    }
   ],
   "source": [
    "#verificando as colunas existentes\n",
    "\n",
    "df_anatel.columns"
   ]
  },
  {
   "cell_type": "code",
   "execution_count": 6,
   "metadata": {},
   "outputs": [],
   "source": [
    "#Removendo colunas que nao seram utilizadas\n",
    "\n",
    "df_anatel.drop(['DataExtracao'],axis=1,inplace=True)"
   ]
  },
  {
   "cell_type": "code",
   "execution_count": 7,
   "metadata": {},
   "outputs": [
    {
     "data": {
      "text/plain": [
       "array(['Aplicativo Móvel', 'Call Center', 'Fale Conosco',\n",
       "       'Atendimento Pessoal', 'Fax', 'E-mail', 'Correspondência', 'TTS',\n",
       "       'SOA', 'SIC'], dtype=object)"
      ]
     },
     "execution_count": 7,
     "metadata": {},
     "output_type": "execute_result"
    }
   ],
   "source": [
    "#foi retirado os espaços em branco na coluna CanalEntrada.\n",
    "\n",
    "df_anatel['CanalEntrada'] = df_anatel['CanalEntrada'].str.strip()\n",
    "df_anatel['CanalEntrada'].unique()"
   ]
  },
  {
   "cell_type": "code",
   "execution_count": 8,
   "metadata": {},
   "outputs": [
    {
     "name": "stdout",
     "output_type": "stream",
     "text": [
      "<class 'pandas.core.frame.DataFrame'>\n",
      "Int64Index: 2101218 entries, 0 to 3927\n",
      "Data columns (total 11 columns):\n",
      "Ano              int64\n",
      "Mes              int64\n",
      "CanalEntrada     object\n",
      "Condicao         object\n",
      "GrupoEconNorm    object\n",
      "Tipo             object\n",
      "Servico          object\n",
      "Modalidade       object\n",
      "Motivo           object\n",
      "UF               object\n",
      "QtdeSolic        int64\n",
      "dtypes: int64(3), object(8)\n",
      "memory usage: 192.4+ MB\n"
     ]
    }
   ],
   "source": [
    "#Obtendo informação do dataset\n",
    "\n",
    "df_anatel.info()"
   ]
  },
  {
   "cell_type": "markdown",
   "metadata": {},
   "source": [
    "## 1. Operadoras com mais reclamações (nacional) nos 3 últimos anos(2016, 2017, 2018 )."
   ]
  },
  {
   "cell_type": "code",
   "execution_count": 32,
   "metadata": {},
   "outputs": [
    {
     "data": {
      "text/plain": [
       "GrupoEconNorm\n",
       "OI                   499590\n",
       "VIVO                 452687\n",
       "TIM                  346025\n",
       "CLARO                280601\n",
       "NET                  237697\n",
       "SKY                  118234\n",
       "Outros                98860\n",
       "NEXTEL                43674\n",
       "ALGAR                 17584\n",
       "SERCOMTEL              2578\n",
       "BLUE                   1189\n",
       "HUGHES NET             1133\n",
       "Correios Celular        626\n",
       "Brisanet                364\n",
       "CABO TELECOM            268\n",
       "NOSSA TV - BRASIL        62\n",
       "EMBRATEL                 30\n",
       "Datora                   16\n",
       "Name: GrupoEconNorm, dtype: int64"
      ]
     },
     "execution_count": 32,
     "metadata": {},
     "output_type": "execute_result"
    }
   ],
   "source": [
    "#agrupando por grupo econômico e contando quantidade de registros e ordenando em ordem decrescente\n",
    "\n",
    "street_names_cleaned = df_anatel.GrupoEconNorm.str.strip()\n",
    "street_names_cleaned.groupby(street_names_cleaned).count().head(20)\n",
    "\n",
    "count = street_names_cleaned.groupby(street_names_cleaned).count()\n",
    "count.sort_values(ascending=False)"
   ]
  },
  {
   "cell_type": "markdown",
   "metadata": {},
   "source": [
    "## 3. Ranking dos serviços com maiores reclamações por operadora, nos 3 últimos anos (2016, 2017, 2018 )."
   ]
  },
  {
   "cell_type": "code",
   "execution_count": 26,
   "metadata": {},
   "outputs": [
    {
     "data": {
      "text/plain": [
       "GrupoEconNorm\n",
       "ALGAR                 17584\n",
       "BLUE                   1189\n",
       "Brisanet                364\n",
       "CABO TELECOM            268\n",
       "CLARO                280601\n",
       "Correios Celular        626\n",
       "Datora                   16\n",
       "EMBRATEL                 30\n",
       "HUGHES NET             1133\n",
       "NET                  237697\n",
       "NEXTEL                43674\n",
       "NOSSA TV - BRASIL        62\n",
       "OI                   499590\n",
       "Outros                98860\n",
       "SERCOMTEL              2578\n",
       "SKY                  118234\n",
       "TIM                  346025\n",
       "VIVO                 452687\n",
       "Name: GrupoEconNorm, dtype: int64"
      ]
     },
     "execution_count": 26,
     "metadata": {},
     "output_type": "execute_result"
    }
   ],
   "source": [
    "#agrupando por grupo econômico e contando quantidade de registros\n",
    "\n",
    "df_anatel.groupby('GrupoEconNorm')['GrupoEconNorm'].count()"
   ]
  },
  {
   "cell_type": "code",
   "execution_count": 11,
   "metadata": {},
   "outputs": [],
   "source": [
    "#Calculo da quantidade total de reclamaçoes por serviço e em seguida calculado de cada ano.\n",
    "\n",
    "GrupoEconNormTotal = df_anatel['GrupoEconNorm'].value_counts()\n",
    "GrupoEconNorm16 = df_anatel[df_anatel['Ano']==2016]['GrupoEconNorm'].value_counts()\n",
    "GrupoEconNorm17 = df_anatel[df_anatel['Ano']==2017]['GrupoEconNorm'].value_counts()\n",
    "GrupoEconNorm18 = df_anatel[df_anatel['Ano']==2018]['GrupoEconNorm'].value_counts()"
   ]
  },
  {
   "cell_type": "code",
   "execution_count": 12,
   "metadata": {},
   "outputs": [
    {
     "name": "stdout",
     "output_type": "stream",
     "text": [
      "Número de reclamações de acordo com a Operadora\n"
     ]
    },
    {
     "data": {
      "text/html": [
       "<div>\n",
       "<style scoped>\n",
       "    .dataframe tbody tr th:only-of-type {\n",
       "        vertical-align: middle;\n",
       "    }\n",
       "\n",
       "    .dataframe tbody tr th {\n",
       "        vertical-align: top;\n",
       "    }\n",
       "\n",
       "    .dataframe thead th {\n",
       "        text-align: right;\n",
       "    }\n",
       "</style>\n",
       "<table border=\"1\" class=\"dataframe\">\n",
       "  <thead>\n",
       "    <tr style=\"text-align: right;\">\n",
       "      <th></th>\n",
       "      <th>2016</th>\n",
       "      <th>2017</th>\n",
       "      <th>2018</th>\n",
       "      <th>Total</th>\n",
       "    </tr>\n",
       "  </thead>\n",
       "  <tbody>\n",
       "    <tr>\n",
       "      <th>OI</th>\n",
       "      <td>186087</td>\n",
       "      <td>163480</td>\n",
       "      <td>150023</td>\n",
       "      <td>499590</td>\n",
       "    </tr>\n",
       "    <tr>\n",
       "      <th>VIVO</th>\n",
       "      <td>163802</td>\n",
       "      <td>149262</td>\n",
       "      <td>139623</td>\n",
       "      <td>452687</td>\n",
       "    </tr>\n",
       "    <tr>\n",
       "      <th>TIM</th>\n",
       "      <td>114798</td>\n",
       "      <td>113811</td>\n",
       "      <td>117416</td>\n",
       "      <td>346025</td>\n",
       "    </tr>\n",
       "    <tr>\n",
       "      <th>CLARO</th>\n",
       "      <td>105151</td>\n",
       "      <td>90648</td>\n",
       "      <td>84802</td>\n",
       "      <td>280601</td>\n",
       "    </tr>\n",
       "    <tr>\n",
       "      <th>NET</th>\n",
       "      <td>79357</td>\n",
       "      <td>78467</td>\n",
       "      <td>79873</td>\n",
       "      <td>237697</td>\n",
       "    </tr>\n",
       "    <tr>\n",
       "      <th>SKY</th>\n",
       "      <td>43153</td>\n",
       "      <td>39745</td>\n",
       "      <td>35336</td>\n",
       "      <td>118234</td>\n",
       "    </tr>\n",
       "    <tr>\n",
       "      <th>Outros</th>\n",
       "      <td>34028</td>\n",
       "      <td>33307</td>\n",
       "      <td>31525</td>\n",
       "      <td>98860</td>\n",
       "    </tr>\n",
       "    <tr>\n",
       "      <th>NEXTEL</th>\n",
       "      <td>17270</td>\n",
       "      <td>15105</td>\n",
       "      <td>11299</td>\n",
       "      <td>43674</td>\n",
       "    </tr>\n",
       "    <tr>\n",
       "      <th>ALGAR</th>\n",
       "      <td>5083</td>\n",
       "      <td>5613</td>\n",
       "      <td>6888</td>\n",
       "      <td>17584</td>\n",
       "    </tr>\n",
       "    <tr>\n",
       "      <th>SERCOMTEL</th>\n",
       "      <td>708</td>\n",
       "      <td>973</td>\n",
       "      <td>897</td>\n",
       "      <td>2578</td>\n",
       "    </tr>\n",
       "    <tr>\n",
       "      <th>BLUE</th>\n",
       "      <td>952</td>\n",
       "      <td>237</td>\n",
       "      <td>0</td>\n",
       "      <td>1189</td>\n",
       "    </tr>\n",
       "    <tr>\n",
       "      <th>HUGHES NET</th>\n",
       "      <td>0</td>\n",
       "      <td>0</td>\n",
       "      <td>1133</td>\n",
       "      <td>1133</td>\n",
       "    </tr>\n",
       "    <tr>\n",
       "      <th>Correios Celular</th>\n",
       "      <td>0</td>\n",
       "      <td>0</td>\n",
       "      <td>626</td>\n",
       "      <td>626</td>\n",
       "    </tr>\n",
       "    <tr>\n",
       "      <th>Brisanet</th>\n",
       "      <td>0</td>\n",
       "      <td>0</td>\n",
       "      <td>364</td>\n",
       "      <td>364</td>\n",
       "    </tr>\n",
       "    <tr>\n",
       "      <th>CABO TELECOM</th>\n",
       "      <td>0</td>\n",
       "      <td>0</td>\n",
       "      <td>268</td>\n",
       "      <td>268</td>\n",
       "    </tr>\n",
       "    <tr>\n",
       "      <th>NOSSA TV - BRASIL</th>\n",
       "      <td>0</td>\n",
       "      <td>0</td>\n",
       "      <td>62</td>\n",
       "      <td>62</td>\n",
       "    </tr>\n",
       "    <tr>\n",
       "      <th>EMBRATEL</th>\n",
       "      <td>29</td>\n",
       "      <td>1</td>\n",
       "      <td>0</td>\n",
       "      <td>30</td>\n",
       "    </tr>\n",
       "    <tr>\n",
       "      <th>Datora</th>\n",
       "      <td>0</td>\n",
       "      <td>0</td>\n",
       "      <td>16</td>\n",
       "      <td>16</td>\n",
       "    </tr>\n",
       "  </tbody>\n",
       "</table>\n",
       "</div>"
      ],
      "text/plain": [
       "                     2016    2017    2018   Total\n",
       "OI                 186087  163480  150023  499590\n",
       "VIVO               163802  149262  139623  452687\n",
       "TIM                114798  113811  117416  346025\n",
       "CLARO              105151   90648   84802  280601\n",
       "NET                 79357   78467   79873  237697\n",
       "SKY                 43153   39745   35336  118234\n",
       "Outros              34028   33307   31525   98860\n",
       "NEXTEL              17270   15105   11299   43674\n",
       "ALGAR                5083    5613    6888   17584\n",
       "SERCOMTEL             708     973     897    2578\n",
       "BLUE                  952     237       0    1189\n",
       "HUGHES NET              0       0    1133    1133\n",
       "Correios Celular        0       0     626     626\n",
       "Brisanet                0       0     364     364\n",
       "CABO TELECOM            0       0     268     268\n",
       "NOSSA TV - BRASIL       0       0      62      62\n",
       "EMBRATEL               29       1       0      30\n",
       "Datora                  0       0      16      16"
      ]
     },
     "execution_count": 12,
     "metadata": {},
     "output_type": "execute_result"
    }
   ],
   "source": [
    "#Crianção de um novo dataframe com as informações do numero de reclamações pelo ano e o total de acordo com\n",
    "#cada serviço.\n",
    "\n",
    "df_GrupoEconNorm = {2016:GrupoEconNorm16,2017:GrupoEconNorm17,2018:GrupoEconNorm18,'Total':GrupoEconNormTotal}\n",
    "df_GrupoEconNorm = pd.DataFrame(data=df_GrupoEconNorm)\n",
    "df_GrupoEconNorm = df_GrupoEconNorm.fillna(0).astype('int64')\n",
    "\n",
    "print(\"Número de reclamações de acordo com a Operadora\")\n",
    "df_GrupoEconNorm.sort_values(by='Total',ascending=False)"
   ]
  },
  {
   "cell_type": "code",
   "execution_count": 13,
   "metadata": {},
   "outputs": [],
   "source": [
    "#Calculo da quantidade total de reclamaçoes por operadora e em seguida calculado de cada ano.\n",
    "\n",
    "ServicoTotal = df_anatel['Servico'].value_counts()\n",
    "Servico16 = df_anatel[df_anatel['Ano']==2016]['Servico'].value_counts()\n",
    "Servico17 = df_anatel[df_anatel['Ano']==2017]['Servico'].value_counts()\n",
    "Servico18 = df_anatel[df_anatel['Ano']==2018]['Servico'].value_counts()"
   ]
  },
  {
   "cell_type": "code",
   "execution_count": 29,
   "metadata": {},
   "outputs": [
    {
     "name": "stdout",
     "output_type": "stream",
     "text": [
      "Número de reclamações de acordo com o serviço\n"
     ]
    },
    {
     "data": {
      "text/html": [
       "<div>\n",
       "<style scoped>\n",
       "    .dataframe tbody tr th:only-of-type {\n",
       "        vertical-align: middle;\n",
       "    }\n",
       "\n",
       "    .dataframe tbody tr th {\n",
       "        vertical-align: top;\n",
       "    }\n",
       "\n",
       "    .dataframe thead th {\n",
       "        text-align: right;\n",
       "    }\n",
       "</style>\n",
       "<table border=\"1\" class=\"dataframe\">\n",
       "  <thead>\n",
       "    <tr style=\"text-align: right;\">\n",
       "      <th></th>\n",
       "      <th>2016</th>\n",
       "      <th>2017</th>\n",
       "      <th>2018</th>\n",
       "      <th>Total</th>\n",
       "    </tr>\n",
       "  </thead>\n",
       "  <tbody>\n",
       "    <tr>\n",
       "      <th>Celular Pós-Pago</th>\n",
       "      <td>218712</td>\n",
       "      <td>203653</td>\n",
       "      <td>189522</td>\n",
       "      <td>611887</td>\n",
       "    </tr>\n",
       "    <tr>\n",
       "      <th>Celular Pré-Pago</th>\n",
       "      <td>135555</td>\n",
       "      <td>120851</td>\n",
       "      <td>114407</td>\n",
       "      <td>370813</td>\n",
       "    </tr>\n",
       "    <tr>\n",
       "      <th>Telefone Fixo</th>\n",
       "      <td>131536</td>\n",
       "      <td>121254</td>\n",
       "      <td>114817</td>\n",
       "      <td>367607</td>\n",
       "    </tr>\n",
       "    <tr>\n",
       "      <th>Banda Larga Fixa</th>\n",
       "      <td>120682</td>\n",
       "      <td>115195</td>\n",
       "      <td>122881</td>\n",
       "      <td>358758</td>\n",
       "    </tr>\n",
       "    <tr>\n",
       "      <th>TV por Assinatura</th>\n",
       "      <td>123083</td>\n",
       "      <td>111158</td>\n",
       "      <td>101608</td>\n",
       "      <td>335849</td>\n",
       "    </tr>\n",
       "    <tr>\n",
       "      <th>Serviços da Anatel</th>\n",
       "      <td>12103</td>\n",
       "      <td>10496</td>\n",
       "      <td>9967</td>\n",
       "      <td>32566</td>\n",
       "    </tr>\n",
       "    <tr>\n",
       "      <th>Móvel Pessoal</th>\n",
       "      <td>1803</td>\n",
       "      <td>1754</td>\n",
       "      <td>1790</td>\n",
       "      <td>5347</td>\n",
       "    </tr>\n",
       "    <tr>\n",
       "      <th>Radiodifusão (Rádio e TV)</th>\n",
       "      <td>1759</td>\n",
       "      <td>1794</td>\n",
       "      <td>1412</td>\n",
       "      <td>4965</td>\n",
       "    </tr>\n",
       "    <tr>\n",
       "      <th>Serviço de Comunicação Multimídia</th>\n",
       "      <td>1895</td>\n",
       "      <td>1564</td>\n",
       "      <td>1130</td>\n",
       "      <td>4589</td>\n",
       "    </tr>\n",
       "    <tr>\n",
       "      <th>Rádio do Cidadão (PX)</th>\n",
       "      <td>1006</td>\n",
       "      <td>899</td>\n",
       "      <td>779</td>\n",
       "      <td>2684</td>\n",
       "    </tr>\n",
       "    <tr>\n",
       "      <th>Radioamador (PY)</th>\n",
       "      <td>1008</td>\n",
       "      <td>883</td>\n",
       "      <td>787</td>\n",
       "      <td>2678</td>\n",
       "    </tr>\n",
       "    <tr>\n",
       "      <th>Serviço Telefônico Fixo Comutado - STFC</th>\n",
       "      <td>613</td>\n",
       "      <td>553</td>\n",
       "      <td>369</td>\n",
       "      <td>1535</td>\n",
       "    </tr>\n",
       "    <tr>\n",
       "      <th>Limitado Privado</th>\n",
       "      <td>432</td>\n",
       "      <td>381</td>\n",
       "      <td>402</td>\n",
       "      <td>1215</td>\n",
       "    </tr>\n",
       "    <tr>\n",
       "      <th>Outros</th>\n",
       "      <td>143</td>\n",
       "      <td>115</td>\n",
       "      <td>141</td>\n",
       "      <td>399</td>\n",
       "    </tr>\n",
       "    <tr>\n",
       "      <th>Serviço Móvel Aeronáutico</th>\n",
       "      <td>85</td>\n",
       "      <td>97</td>\n",
       "      <td>138</td>\n",
       "      <td>320</td>\n",
       "    </tr>\n",
       "    <tr>\n",
       "      <th>Serviço Móvel Marítimo</th>\n",
       "      <td>3</td>\n",
       "      <td>1</td>\n",
       "      <td>0</td>\n",
       "      <td>4</td>\n",
       "    </tr>\n",
       "    <tr>\n",
       "      <th>Radiochamada (Paging)</th>\n",
       "      <td>0</td>\n",
       "      <td>1</td>\n",
       "      <td>1</td>\n",
       "      <td>2</td>\n",
       "    </tr>\n",
       "  </tbody>\n",
       "</table>\n",
       "</div>"
      ],
      "text/plain": [
       "                                           2016    2017    2018   Total\n",
       "Celular Pós-Pago                         218712  203653  189522  611887\n",
       "Celular Pré-Pago                         135555  120851  114407  370813\n",
       "Telefone Fixo                            131536  121254  114817  367607\n",
       "Banda Larga Fixa                         120682  115195  122881  358758\n",
       "TV por Assinatura                        123083  111158  101608  335849\n",
       "Serviços da Anatel                        12103   10496    9967   32566\n",
       "Móvel Pessoal                              1803    1754    1790    5347\n",
       "Radiodifusão (Rádio e TV)                  1759    1794    1412    4965\n",
       "Serviço de Comunicação Multimídia          1895    1564    1130    4589\n",
       "Rádio do Cidadão (PX)                      1006     899     779    2684\n",
       "Radioamador (PY)                           1008     883     787    2678\n",
       "Serviço Telefônico Fixo Comutado - STFC     613     553     369    1535\n",
       "Limitado Privado                            432     381     402    1215\n",
       "Outros                                      143     115     141     399\n",
       "Serviço Móvel Aeronáutico                    85      97     138     320\n",
       "Serviço Móvel Marítimo                        3       1       0       4\n",
       "Radiochamada (Paging)                         0       1       1       2"
      ]
     },
     "execution_count": 29,
     "metadata": {},
     "output_type": "execute_result"
    }
   ],
   "source": [
    "#Crianção de um novo dataframe com as informações do numero de reclamações pelo ano e o total de acordo com\n",
    "#cada operadora.\n",
    "\n",
    "df_Servico = {2016:Servico16,2017:Servico17,2018:Servico18,'Total':ServicoTotal}\n",
    "df_Servico = pd.DataFrame(data=df_Servico)\n",
    "df_Servico = df_Servico.fillna(0).astype('int64')\n",
    "\n",
    "print(\"Número de reclamações de acordo com o serviço\")\n",
    "df_Servico.sort_values(by='Total',ascending=False)"
   ]
  },
  {
   "cell_type": "markdown",
   "metadata": {},
   "source": [
    "## 4. Canais utilizados para reclamações da Anatel ( telefone, site, etc.) nos 3 últimos anos (2016, 2017, 2018 )."
   ]
  },
  {
   "cell_type": "code",
   "execution_count": 15,
   "metadata": {},
   "outputs": [],
   "source": [
    "#Calculo da quantidade total de reclamaçoes por canais e em seguida calculado de cada ano.\n",
    "\n",
    "canaisTotal = df_anatel['CanalEntrada'].value_counts()\n",
    "canais16 = df_anatel[df_anatel['Ano']==2016]['CanalEntrada'].value_counts()\n",
    "canais17 = df_anatel[df_anatel['Ano']==2017]['CanalEntrada'].value_counts()\n",
    "canais18 = df_anatel[df_anatel['Ano']==2018]['CanalEntrada'].value_counts()"
   ]
  },
  {
   "cell_type": "code",
   "execution_count": 16,
   "metadata": {},
   "outputs": [
    {
     "name": "stdout",
     "output_type": "stream",
     "text": [
      "Número de reclamações de acordo com o canal\n"
     ]
    },
    {
     "data": {
      "text/html": [
       "<div>\n",
       "<style scoped>\n",
       "    .dataframe tbody tr th:only-of-type {\n",
       "        vertical-align: middle;\n",
       "    }\n",
       "\n",
       "    .dataframe tbody tr th {\n",
       "        vertical-align: top;\n",
       "    }\n",
       "\n",
       "    .dataframe thead th {\n",
       "        text-align: right;\n",
       "    }\n",
       "</style>\n",
       "<table border=\"1\" class=\"dataframe\">\n",
       "  <thead>\n",
       "    <tr style=\"text-align: right;\">\n",
       "      <th></th>\n",
       "      <th>2016</th>\n",
       "      <th>2017</th>\n",
       "      <th>2018</th>\n",
       "      <th>Total</th>\n",
       "    </tr>\n",
       "  </thead>\n",
       "  <tbody>\n",
       "    <tr>\n",
       "      <th>Call Center</th>\n",
       "      <td>341246</td>\n",
       "      <td>304088</td>\n",
       "      <td>279550</td>\n",
       "      <td>924884</td>\n",
       "    </tr>\n",
       "    <tr>\n",
       "      <th>Fale Conosco</th>\n",
       "      <td>284962</td>\n",
       "      <td>253501</td>\n",
       "      <td>247202</td>\n",
       "      <td>785665</td>\n",
       "    </tr>\n",
       "    <tr>\n",
       "      <th>Aplicativo Móvel</th>\n",
       "      <td>112970</td>\n",
       "      <td>123632</td>\n",
       "      <td>126816</td>\n",
       "      <td>363418</td>\n",
       "    </tr>\n",
       "    <tr>\n",
       "      <th>Atendimento Pessoal</th>\n",
       "      <td>10921</td>\n",
       "      <td>9197</td>\n",
       "      <td>6486</td>\n",
       "      <td>26604</td>\n",
       "    </tr>\n",
       "    <tr>\n",
       "      <th>Correspondência</th>\n",
       "      <td>83</td>\n",
       "      <td>94</td>\n",
       "      <td>56</td>\n",
       "      <td>233</td>\n",
       "    </tr>\n",
       "    <tr>\n",
       "      <th>Fax</th>\n",
       "      <td>126</td>\n",
       "      <td>54</td>\n",
       "      <td>2</td>\n",
       "      <td>182</td>\n",
       "    </tr>\n",
       "    <tr>\n",
       "      <th>E-mail</th>\n",
       "      <td>39</td>\n",
       "      <td>37</td>\n",
       "      <td>15</td>\n",
       "      <td>91</td>\n",
       "    </tr>\n",
       "    <tr>\n",
       "      <th>TTS</th>\n",
       "      <td>54</td>\n",
       "      <td>29</td>\n",
       "      <td>7</td>\n",
       "      <td>90</td>\n",
       "    </tr>\n",
       "    <tr>\n",
       "      <th>SIC</th>\n",
       "      <td>13</td>\n",
       "      <td>13</td>\n",
       "      <td>17</td>\n",
       "      <td>43</td>\n",
       "    </tr>\n",
       "    <tr>\n",
       "      <th>SOA</th>\n",
       "      <td>4</td>\n",
       "      <td>4</td>\n",
       "      <td>0</td>\n",
       "      <td>8</td>\n",
       "    </tr>\n",
       "  </tbody>\n",
       "</table>\n",
       "</div>"
      ],
      "text/plain": [
       "                       2016    2017    2018   Total\n",
       "Call Center          341246  304088  279550  924884\n",
       "Fale Conosco         284962  253501  247202  785665\n",
       "Aplicativo Móvel     112970  123632  126816  363418\n",
       "Atendimento Pessoal   10921    9197    6486   26604\n",
       "Correspondência          83      94      56     233\n",
       "Fax                     126      54       2     182\n",
       "E-mail                   39      37      15      91\n",
       "TTS                      54      29       7      90\n",
       "SIC                      13      13      17      43\n",
       "SOA                       4       4       0       8"
      ]
     },
     "execution_count": 16,
     "metadata": {},
     "output_type": "execute_result"
    }
   ],
   "source": [
    "#Crianção de um novo dataframe com as informações do numero de reclamações pelo ano e o total de acordo com\n",
    "#cada canal.\n",
    "\n",
    "df_canais = {2016:canais16,2017:canais17,2018:canais18,'Total':canaisTotal}\n",
    "df_canais = pd.DataFrame(data=df_canais)\n",
    "df_canais = df_canais.fillna(0).astype('int64')\n",
    "\n",
    "print(\"Número de reclamações de acordo com o canal\")\n",
    "df_canais.sort_values(by='Total',ascending=False)"
   ]
  },
  {
   "cell_type": "markdown",
   "metadata": {},
   "source": [
    "## 5. As 10 maiores reclamações dos consumidores nos 3 últimos anos (2016, 2017, 2018)."
   ]
  },
  {
   "cell_type": "code",
   "execution_count": 165,
   "metadata": {},
   "outputs": [],
   "source": [
    "recl_mod = df_anatel['Modalidade'].value_counts()\n",
    "recl_motivo = df_anatel['Motivo'].value_counts()"
   ]
  },
  {
   "cell_type": "code",
   "execution_count": 167,
   "metadata": {},
   "outputs": [
    {
     "data": {
      "text/html": [
       "<div>\n",
       "<style scoped>\n",
       "    .dataframe tbody tr th:only-of-type {\n",
       "        vertical-align: middle;\n",
       "    }\n",
       "\n",
       "    .dataframe tbody tr th {\n",
       "        vertical-align: top;\n",
       "    }\n",
       "\n",
       "    .dataframe thead th {\n",
       "        text-align: right;\n",
       "    }\n",
       "</style>\n",
       "<table border=\"1\" class=\"dataframe\">\n",
       "  <thead>\n",
       "    <tr style=\"text-align: right;\">\n",
       "      <th></th>\n",
       "      <th>Modalidade</th>\n",
       "    </tr>\n",
       "  </thead>\n",
       "  <tbody>\n",
       "    <tr>\n",
       "      <th>Cobrança</th>\n",
       "      <td>519703</td>\n",
       "    </tr>\n",
       "    <tr>\n",
       "      <th>Qualidade, Funcionamento e Reparo</th>\n",
       "      <td>313883</td>\n",
       "    </tr>\n",
       "    <tr>\n",
       "      <th>Oferta, Bônus, Promoções, Mensagens Publicitárias e Mudança de Plano</th>\n",
       "      <td>240361</td>\n",
       "    </tr>\n",
       "    <tr>\n",
       "      <th>Cancelamento</th>\n",
       "      <td>179585</td>\n",
       "    </tr>\n",
       "    <tr>\n",
       "      <th>Instalação ou Ativação ou Habilitação</th>\n",
       "      <td>145070</td>\n",
       "    </tr>\n",
       "    <tr>\n",
       "      <th>Bloqueio ou Suspensão e Desbloqueio</th>\n",
       "      <td>128387</td>\n",
       "    </tr>\n",
       "    <tr>\n",
       "      <th>Atendimento</th>\n",
       "      <td>105322</td>\n",
       "    </tr>\n",
       "    <tr>\n",
       "      <th>Crédito Pré-pago</th>\n",
       "      <td>102864</td>\n",
       "    </tr>\n",
       "    <tr>\n",
       "      <th>Documento de Cobrança, Contrato, Gravações</th>\n",
       "      <td>98278</td>\n",
       "    </tr>\n",
       "    <tr>\n",
       "      <th>Ressarcimento</th>\n",
       "      <td>67434</td>\n",
       "    </tr>\n",
       "  </tbody>\n",
       "</table>\n",
       "</div>"
      ],
      "text/plain": [
       "                                                    Modalidade\n",
       "Cobrança                                                519703\n",
       "Qualidade, Funcionamento e Reparo                       313883\n",
       "Oferta, Bônus, Promoções, Mensagens Publicitári...      240361\n",
       "Cancelamento                                            179585\n",
       "Instalação ou Ativação ou Habilitação                   145070\n",
       "Bloqueio ou Suspensão e Desbloqueio                     128387\n",
       "Atendimento                                             105322\n",
       "Crédito Pré-pago                                        102864\n",
       "Documento de Cobrança, Contrato, Gravações               98278\n",
       "Ressarcimento                                            67434"
      ]
     },
     "execution_count": 167,
     "metadata": {},
     "output_type": "execute_result"
    }
   ],
   "source": [
    "# As 10 maiores reclamações pelo tipo de classificação de modalidade\n",
    "\n",
    "recl_mod[:10].to_frame()"
   ]
  },
  {
   "cell_type": "code",
   "execution_count": 187,
   "metadata": {},
   "outputs": [
    {
     "data": {
      "text/plain": [
       "<matplotlib.axes._subplots.AxesSubplot at 0x7ff816fa1390>"
      ]
     },
     "execution_count": 187,
     "metadata": {},
     "output_type": "execute_result"
    },
    {
     "data": {
      "image/png": "[encoded data removed]",
      "text/plain": [
       "<Figure size 432x288 with 1 Axes>"
      ]
     },
     "metadata": {},
     "output_type": "display_data"
    }
   ],
   "source": [
    "#Grafico com as 10 maiores reclamações pelo tipo de classificação de modalidade\n",
    "\n",
    "ax_mod = recl_mod[0:10].sort_values()\n",
    "ax_mod.plot.barh()"
   ]
  },
  {
   "cell_type": "code",
   "execution_count": 20,
   "metadata": {},
   "outputs": [
    {
     "data": {
      "text/html": [
       "<div>\n",
       "<style scoped>\n",
       "    .dataframe tbody tr th:only-of-type {\n",
       "        vertical-align: middle;\n",
       "    }\n",
       "\n",
       "    .dataframe tbody tr th {\n",
       "        vertical-align: top;\n",
       "    }\n",
       "\n",
       "    .dataframe thead th {\n",
       "        text-align: right;\n",
       "    }\n",
       "</style>\n",
       "<table border=\"1\" class=\"dataframe\">\n",
       "  <thead>\n",
       "    <tr style=\"text-align: right;\">\n",
       "      <th></th>\n",
       "      <th>Motivo</th>\n",
       "    </tr>\n",
       "  </thead>\n",
       "  <tbody>\n",
       "    <tr>\n",
       "      <th>Cobrança em desacordo com o contratado</th>\n",
       "      <td>71510</td>\n",
       "    </tr>\n",
       "    <tr>\n",
       "      <th>Cobrança após cancelamento</th>\n",
       "      <td>49554</td>\n",
       "    </tr>\n",
       "    <tr>\n",
       "      <th>Cobrança de serviço, produto ou plano não contratado</th>\n",
       "      <td>45833</td>\n",
       "    </tr>\n",
       "    <tr>\n",
       "      <th>Instalação ou habilitação não realizada</th>\n",
       "      <td>43486</td>\n",
       "    </tr>\n",
       "    <tr>\n",
       "      <th>Cancelamento solicitado por meio de atendente não efetuado</th>\n",
       "      <td>39993</td>\n",
       "    </tr>\n",
       "    <tr>\n",
       "      <th>Não consegue registrar pedido de cancelamento por meio do atendente</th>\n",
       "      <td>38539</td>\n",
       "    </tr>\n",
       "    <tr>\n",
       "      <th>Cobrança de serviços adicionais não contratados</th>\n",
       "      <td>37705</td>\n",
       "    </tr>\n",
       "    <tr>\n",
       "      <th>Cobrança de serviço, produto ou plano contratado e não disponibilizado</th>\n",
       "      <td>37649</td>\n",
       "    </tr>\n",
       "    <tr>\n",
       "      <th>Cobrança indevida de multa por fidelização (multa rescisória)</th>\n",
       "      <td>34394</td>\n",
       "    </tr>\n",
       "    <tr>\n",
       "      <th>Não consegue alterar o plano de serviço</th>\n",
       "      <td>34025</td>\n",
       "    </tr>\n",
       "  </tbody>\n",
       "</table>\n",
       "</div>"
      ],
      "text/plain": [
       "                                                    Motivo\n",
       "Cobrança em desacordo com o contratado               71510\n",
       "Cobrança após cancelamento                           49554\n",
       "Cobrança de serviço, produto ou plano não contr...   45833\n",
       "Instalação ou habilitação não realizada              43486\n",
       "Cancelamento solicitado por meio de atendente n...   39993\n",
       "Não consegue registrar pedido de cancelamento p...   38539\n",
       "Cobrança de serviços adicionais não contratados      37705\n",
       "Cobrança de serviço, produto ou plano contratad...   37649\n",
       "Cobrança indevida de multa por fidelização (mul...   34394\n",
       "Não consegue alterar o plano de serviço              34025"
      ]
     },
     "execution_count": 20,
     "metadata": {},
     "output_type": "execute_result"
    }
   ],
   "source": [
    "#As 10 maiores reclamações pelo tipo de classificação de motivo\n",
    "\n",
    "recl_motivo[:10].to_frame()"
   ]
  },
  {
   "cell_type": "code",
   "execution_count": 190,
   "metadata": {},
   "outputs": [
    {
     "data": {
      "text/plain": [
       "<matplotlib.axes._subplots.AxesSubplot at 0x7ff816edaba8>"
      ]
     },
     "execution_count": 190,
     "metadata": {},
     "output_type": "execute_result"
    },
    {
     "data": {
      "image/png": "[encoded data removed]",
      "text/plain": [
       "<Figure size 432x288 with 1 Axes>"
      ]
     },
     "metadata": {},
     "output_type": "display_data"
    }
   ],
   "source": [
    "ax_mot = recl_motivo[:10].sort_values()\n",
    "ax_mot.plot.barh()"
   ]
  },
  {
   "cell_type": "markdown",
   "metadata": {},
   "source": [
    "## 6. Período de maior número de reclamações (se primeiro ou segundo semestre)."
   ]
  },
  {
   "cell_type": "code",
   "execution_count": 106,
   "metadata": {},
   "outputs": [],
   "source": [
    "#Mapeando o primeiro semestre\n",
    "\n",
    "prim_sem = df_anatel[df_anatel['Mes']<=6]\n",
    "prim_sem_total = len(prim_sem['Ano'])\n",
    "prim_sem_16 = len(prim_sem[prim_sem['Ano']==2016])\n",
    "prim_sem_17 = len(prim_sem[prim_sem['Ano']==2017])\n",
    "prim_sem_18 = len(prim_sem[prim_sem['Ano']==2018])\n",
    "\n",
    "#mapeando o segundo semestre\n",
    "\n",
    "seg_sem = df_anatel[df_anatel['Mes']>6]\n",
    "seg_sem_total = len(seg_sem['Ano'])\n",
    "seg_sem_16 = len(seg_sem[seg_sem['Ano']==2016])\n",
    "seg_sem_17 = len(seg_sem[seg_sem['Ano']==2017])\n",
    "seg_sem_18 = len(seg_sem[seg_sem['Ano']==2018])\n",
    "\n",
    "#convertendo para um dataframe.\n",
    "\n",
    "sem = [[prim_sem_16,prim_sem_17,prim_sem_18,prim_sem_total],\n",
    "       [seg_sem_16,seg_sem_17,seg_sem_18,seg_sem_total]]\n",
    "\n",
    "df_sem = pd.DataFrame(data=sem, columns=[2016,2017,2018,'Total'],\n",
    "                      index=['Primeiro Semestre','Segundo Semestre'])"
   ]
  },
  {
   "cell_type": "code",
   "execution_count": 107,
   "metadata": {},
   "outputs": [
    {
     "data": {
      "text/html": [
       "<div>\n",
       "<style scoped>\n",
       "    .dataframe tbody tr th:only-of-type {\n",
       "        vertical-align: middle;\n",
       "    }\n",
       "\n",
       "    .dataframe tbody tr th {\n",
       "        vertical-align: top;\n",
       "    }\n",
       "\n",
       "    .dataframe thead th {\n",
       "        text-align: right;\n",
       "    }\n",
       "</style>\n",
       "<table border=\"1\" class=\"dataframe\">\n",
       "  <thead>\n",
       "    <tr style=\"text-align: right;\">\n",
       "      <th></th>\n",
       "      <th>2016</th>\n",
       "      <th>2017</th>\n",
       "      <th>2018</th>\n",
       "      <th>Total</th>\n",
       "    </tr>\n",
       "  </thead>\n",
       "  <tbody>\n",
       "    <tr>\n",
       "      <th>Primeiro Semestre</th>\n",
       "      <td>388682</td>\n",
       "      <td>348692</td>\n",
       "      <td>329563</td>\n",
       "      <td>1066937</td>\n",
       "    </tr>\n",
       "    <tr>\n",
       "      <th>Segundo Semestre</th>\n",
       "      <td>361736</td>\n",
       "      <td>341957</td>\n",
       "      <td>330588</td>\n",
       "      <td>1034281</td>\n",
       "    </tr>\n",
       "  </tbody>\n",
       "</table>\n",
       "</div>"
      ],
      "text/plain": [
       "                     2016    2017    2018    Total\n",
       "Primeiro Semestre  388682  348692  329563  1066937\n",
       "Segundo Semestre   361736  341957  330588  1034281"
      ]
     },
     "execution_count": 107,
     "metadata": {},
     "output_type": "execute_result"
    }
   ],
   "source": [
    "df_sem"
   ]
  },
  {
   "cell_type": "code",
   "execution_count": null,
   "metadata": {},
   "outputs": [],
   "source": []
  }
 ],
 "metadata": {
  "kernelspec": {
   "display_name": "Python 3",
   "language": "python",
   "name": "python3"
  },
  "language_info": {
   "codemirror_mode": {
    "name": "ipython",
    "version": 3
   },
   "file_extension": ".py",
   "mimetype": "text/x-python",
   "name": "python",
   "nbconvert_exporter": "python",
   "pygments_lexer": "ipython3",
   "version": "3.6.5"
  }
 },
 "nbformat": 4,
 "nbformat_minor": 2
}
