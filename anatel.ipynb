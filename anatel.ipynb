{
 "cells": [
  {
   "cell_type": "markdown",
   "metadata": {},
   "source": [
    "<h1>Analíse de dados sobre reclamações registradas na Anatel</h1>"
   ]
  },
  {
   "cell_type": "markdown",
   "metadata": {},
   "source": [
    "<p>O trabalho a seguir busca fazer uma analíse dos dados sobre os registros de reclamações, denúncias, pedidos de informação e sugestões em relação às operadoras e à Anatel.\n",
    "<p>O dataset utilizado para a analíse esta dispónivel no link http://dados.gov.br/dataset/solicitacoesregistradasnaanatel </p>\n",
    "<p>O trabalho consiste em abordar as seguintes questões:\n",
    "<ol>\n",
    "    <li>Operadoras com mais reclamações (nacional) nos 3 últimos anos(2016,2017,2018).</li>\n",
    "    <li>Operadoras com mais reclamações por estado nos 3 últimos anos(2016,2017,2018).</li>\n",
    "    <li>Ranking dos tipos de serviços com maiores reclamações por operadora, nos 3 últimos anos -total e porcentagem - (2016,2017,2018).</li>\n",
    "    <li>Canais utilizados para reclamações da Anatel (telefone, site, etc.) nos 3 últimos anos(2016,2017,2018).</li>\n",
    "    <li>As 10 maiores reclamações dos consumidores nos 3 últimos anos(2016,2017,2018).</li>\n",
    "    <li>Período de maior número de reclamações (se primeiro ou segundo semestre).</li>\n",
    "</ol>\n",
    "\n",
    "<p>Informações adicionais:</p>\n",
    "\n",
    "| Campo            | Valor                                                        |  \n",
    "|------------------|--------------------------------------------------------------|\n",
    "|Autor             |Agência Nacional de Telecomunicações - Anatel                 |   \n",
    "|Mantenedor        | Gerência de Tratamento de Solicitações de Consumidores - RCTS|   \n",
    "|Última Atualização| 8 de Maio de 2019, 17:28 (UTC-03:00)                         |  \n",
    "|Criado            |16 de Novembro de 2017, 14:34 (UTC-02:00)                     | \n",
    "|Granularidade     |mensal                                                        |\n"
   ]
  },
  {
   "cell_type": "code",
   "execution_count": 1,
   "metadata": {},
   "outputs": [],
   "source": [
    "#importando as bibliotecas\n",
    "import numpy as np\n",
    "import pandas as pd"
   ]
  },
  {
   "cell_type": "markdown",
   "metadata": {},
   "source": [
    "Os datasets da Anatel estão divididos por estados e anos. Então foi preciso unir todos os datasets dos estados de acordo com cada ano."
   ]
  },
  {
   "cell_type": "code",
   "execution_count": 6,
   "metadata": {},
   "outputs": [],
   "source": [
    "#Importando os datasets do ano de 2016\n",
    "df_ac2016 = pd.read_csv('dataset/Solicitações Registradas na Anatel (2016-AC).csv', sep=';', encoding='latin-1')\n",
    "df_al2016 = pd.read_csv('dataset/Solicitações Registradas na Anatel (2016-AL).csv', sep=';',encoding='latin-1')\n",
    "df_am2016 = pd.read_csv('dataset/Solicitações Registradas na Anatel (2016-AM).csv', sep=';',encoding='latin-1')\n",
    "df_ap2016 = pd.read_csv('dataset/Solicitações Registradas na Anatel (2016-AP).csv', sep=';',encoding='latin-1')\n",
    "df_ba2016 = pd.read_csv('dataset/Solicitações Registradas na Anatel (2016-BA).csv', sep=';',encoding='latin-1')\n",
    "df_ce2016 = pd.read_csv('dataset/Solicitações Registradas na Anatel (2016-CE).csv', sep=';',encoding='latin-1')\n",
    "df_df2016 = pd.read_csv('dataset/Solicitações Registradas na Anatel (2016-DF).csv', sep=';',encoding='latin-1')\n",
    "df_es2016 = pd.read_csv('dataset/Solicitações Registradas na Anatel (2016-ES).csv', sep=';',encoding='latin-1')\n",
    "df_go2016 = pd.read_csv('dataset/Solicitações Registradas na Anatel (2016-ES).csv', sep=';',encoding='latin-1')\n",
    "df_ma2016 = pd.read_csv('dataset/Solicitações Registradas na Anatel (2016-MA).csv', sep=';',encoding='latin-1')\n",
    "df_mg2016 = pd.read_csv('dataset/Solicitações Registradas na Anatel (2016-MG).csv', sep=';',encoding='latin-1')\n",
    "df_ms2016 = pd.read_csv('dataset/Solicitações Registradas na Anatel (2016-MS).csv', sep=';',encoding='latin-1')\n",
    "df_mt2016 = pd.read_csv('dataset/Solicitações Registradas na Anatel (2016-MT).csv', sep=';',encoding='latin-1')\n",
    "df_nd2016 = pd.read_csv('dataset/Solicitações Registradas na Anatel (2016-ND).csv', sep=';',encoding='latin-1')\n",
    "df_pa2016 = pd.read_csv('dataset/Solicitações Registradas na Anatel (2016-PA).csv', sep=';',encoding='latin-1')\n",
    "df_pb2016 = pd.read_csv('dataset/Solicitações Registradas na Anatel (2016-PB).csv', sep=';',encoding='latin-1')\n",
    "df_pe2016 = pd.read_csv('dataset/Solicitações Registradas na Anatel (2016-PE).csv', sep=';',encoding='latin-1')\n",
    "df_pi2016 = pd.read_csv('dataset/Solicitações Registradas na Anatel (2016-PI).csv', sep=';',encoding='latin-1')\n",
    "df_pr2016 = pd.read_csv('dataset/Solicitações Registradas na Anatel (2016-PR).csv', sep=';',encoding='latin-1')\n",
    "df_rj2016 = pd.read_csv('dataset/Solicitações Registradas na Anatel (2016-RJ).csv', sep=';',encoding='latin-1')\n",
    "df_rn2016 = pd.read_csv('dataset/Solicitações Registradas na Anatel (2016-RN).csv', sep=';',encoding='latin-1')\n",
    "df_ro2016 = pd.read_csv('dataset/Solicitações Registradas na Anatel (2016-RO).csv', sep=';',encoding='latin-1')\n",
    "df_rr2016 = pd.read_csv('dataset/Solicitações Registradas na Anatel (2016-RR).csv', sep=';',encoding='latin-1')\n",
    "df_rs2016 = pd.read_csv('dataset/Solicitações Registradas na Anatel (2016-RS).csv', sep=';',encoding='latin-1')\n",
    "df_sc2016 = pd.read_csv('dataset/Solicitações Registradas na Anatel (2016-SC).csv', sep=';',encoding='latin-1')\n",
    "df_se2016 = pd.read_csv('dataset/Solicitações Registradas na Anatel (2016-SE).csv', sep=';',encoding='latin-1')\n",
    "df_sp2016 = pd.read_csv('dataset/Solicitações Registradas na Anatel (2016-SP).csv', sep=';',encoding='latin-1')\n",
    "df_to2016 = pd.read_csv('dataset/Solicitações Registradas na Anatel (2016-TO).csv', sep=';',encoding='latin-1')\n"
   ]
  },
  {
   "cell_type": "code",
   "execution_count": 7,
   "metadata": {},
   "outputs": [],
   "source": [
    "#Importando os datasets do ano de 2017\n",
    "df_ac2017 = pd.read_csv('dataset/Solicitações Registradas na Anatel (2017-AC).csv', sep=';', encoding='latin-1')\n",
    "df_al2017 = pd.read_csv('dataset/Solicitações Registradas na Anatel (2017-AL).csv', sep=';',encoding='latin-1')\n",
    "df_am2017 = pd.read_csv('dataset/Solicitações Registradas na Anatel (2017-AM).csv', sep=';',encoding='latin-1')\n",
    "df_ap2017 = pd.read_csv('dataset/Solicitações Registradas na Anatel (2017-AP).csv', sep=';',encoding='latin-1')\n",
    "df_ba2017 = pd.read_csv('dataset/Solicitações Registradas na Anatel (2017-BA).csv', sep=';',encoding='latin-1')\n",
    "df_ce2017 = pd.read_csv('dataset/Solicitações Registradas na Anatel (2017-CE).csv', sep=';',encoding='latin-1')\n",
    "df_df2017 = pd.read_csv('dataset/Solicitações Registradas na Anatel (2017-DF).csv', sep=';',encoding='latin-1')\n",
    "df_es2017 = pd.read_csv('dataset/Solicitações Registradas na Anatel (2017-ES).csv', sep=';',encoding='latin-1')\n",
    "df_go2017 = pd.read_csv('dataset/Solicitações Registradas na Anatel (2017-ES).csv', sep=';',encoding='latin-1')\n",
    "df_ma2017 = pd.read_csv('dataset/Solicitações Registradas na Anatel (2017-MA).csv', sep=';',encoding='latin-1')\n",
    "df_mg2017 = pd.read_csv('dataset/Solicitações Registradas na Anatel (2017-MG).csv', sep=';',encoding='latin-1')\n",
    "df_ms2017 = pd.read_csv('dataset/Solicitações Registradas na Anatel (2017-MS).csv', sep=';',encoding='latin-1')\n",
    "df_mt2017 = pd.read_csv('dataset/Solicitações Registradas na Anatel (2017-MT).csv', sep=';',encoding='latin-1')\n",
    "df_nd2017 = pd.read_csv('dataset/Solicitações Registradas na Anatel (2017-ND).csv', sep=';',encoding='latin-1')\n",
    "df_pa2017 = pd.read_csv('dataset/Solicitações Registradas na Anatel (2017-PA).csv', sep=';',encoding='latin-1')\n",
    "df_pb2017 = pd.read_csv('dataset/Solicitações Registradas na Anatel (2017-PB).csv', sep=';',encoding='latin-1')\n",
    "df_pe2017 = pd.read_csv('dataset/Solicitações Registradas na Anatel (2017-PE).csv', sep=';',encoding='latin-1')\n",
    "df_pi2017 = pd.read_csv('dataset/Solicitações Registradas na Anatel (2017-PI).csv', sep=';',encoding='latin-1')\n",
    "df_pr2017 = pd.read_csv('dataset/Solicitações Registradas na Anatel (2017-PR).csv', sep=';',encoding='latin-1')\n",
    "df_rj2017 = pd.read_csv('dataset/Solicitações Registradas na Anatel (2017-RJ).csv', sep=';',encoding='latin-1')\n",
    "df_rn2017 = pd.read_csv('dataset/Solicitações Registradas na Anatel (2017-RN).csv', sep=';',encoding='latin-1')\n",
    "df_ro2017 = pd.read_csv('dataset/Solicitações Registradas na Anatel (2017-RO).csv', sep=';',encoding='latin-1')\n",
    "df_rr2017 = pd.read_csv('dataset/Solicitações Registradas na Anatel (2017-RR).csv', sep=';',encoding='latin-1')\n",
    "df_rs2017 = pd.read_csv('dataset/Solicitações Registradas na Anatel (2017-RS).csv', sep=';',encoding='latin-1')\n",
    "df_sc2017 = pd.read_csv('dataset/Solicitações Registradas na Anatel (2017-SC).csv', sep=';',encoding='latin-1')\n",
    "df_se2017 = pd.read_csv('dataset/Solicitações Registradas na Anatel (2017-SE).csv', sep=';',encoding='latin-1')\n",
    "df_sp2017 = pd.read_csv('dataset/Solicitações Registradas na Anatel (2017-SP).csv', sep=';',encoding='latin-1')\n",
    "df_to2017 = pd.read_csv('dataset/Solicitações Registradas na Anatel (2017-TO).csv', sep=';',encoding='latin-1')"
   ]
  },
  {
   "cell_type": "code",
   "execution_count": 9,
   "metadata": {},
   "outputs": [],
   "source": [
    "#Importando os datasets do ano de 2018\n",
    "df_ac2018 = pd.read_csv('dataset/Solicitações Registradas na Anatel (2018-AC).csv', sep=';', encoding='latin-1')\n",
    "df_al2018 = pd.read_csv('dataset/Solicitações Registradas na Anatel (2018-AL).csv', sep=';',encoding='latin-1')\n",
    "df_am2018 = pd.read_csv('dataset/Solicitações Registradas na Anatel (2018-AM).csv', sep=';',encoding='latin-1')\n",
    "df_ap2018 = pd.read_csv('dataset/Solicitações Registradas na Anatel (2018-AP).csv', sep=';',encoding='latin-1')\n",
    "df_ba2018 = pd.read_csv('dataset/Solicitações Registradas na Anatel (2018-BA).csv', sep=';',encoding='latin-1')\n",
    "df_ce2018 = pd.read_csv('dataset/Solicitações Registradas na Anatel (2018-CE).csv', sep=';',encoding='latin-1')\n",
    "df_df2018 = pd.read_csv('dataset/Solicitações Registradas na Anatel (2018-DF).csv', sep=';',encoding='latin-1')\n",
    "df_es2018 = pd.read_csv('dataset/Solicitações Registradas na Anatel (2018-ES).csv', sep=';',encoding='latin-1')\n",
    "df_go2018 = pd.read_csv('dataset/Solicitações Registradas na Anatel (2018-ES).csv', sep=';',encoding='latin-1')\n",
    "df_ma2018 = pd.read_csv('dataset/Solicitações Registradas na Anatel (2018-MA).csv', sep=';',encoding='latin-1')\n",
    "df_mg2018 = pd.read_csv('dataset/Solicitações Registradas na Anatel (2018-MG).csv', sep=';',encoding='latin-1')\n",
    "df_ms2018 = pd.read_csv('dataset/Solicitações Registradas na Anatel (2018-MS).csv', sep=';',encoding='latin-1')\n",
    "df_mt2018 = pd.read_csv('dataset/Solicitações Registradas na Anatel (2018-MT).csv', sep=';',encoding='latin-1')\n",
    "df_nd2018 = pd.read_csv('dataset/Solicitações Registradas na Anatel (2018-ND).csv', sep=';',encoding='latin-1')\n",
    "df_pa2018 = pd.read_csv('dataset/Solicitações Registradas na Anatel (2018-PA).csv', sep=';',encoding='latin-1')\n",
    "df_pb2018 = pd.read_csv('dataset/Solicitações Registradas na Anatel (2018-PB).csv', sep=';',encoding='latin-1')\n",
    "df_pe2018 = pd.read_csv('dataset/Solicitações Registradas na Anatel (2018-PE).csv', sep=';',encoding='latin-1')\n",
    "df_pi2018 = pd.read_csv('dataset/Solicitações Registradas na Anatel (2018-PI).csv', sep=';',encoding='latin-1')\n",
    "df_pr2018 = pd.read_csv('dataset/Solicitações Registradas na Anatel (2018-PR).csv', sep=';',encoding='latin-1')\n",
    "df_rj2018 = pd.read_csv('dataset/Solicitações Registradas na Anatel (2018-RJ).csv', sep=';',encoding='latin-1')\n",
    "df_rn2018 = pd.read_csv('dataset/Solicitações Registradas na Anatel (2018-RN).csv', sep=';',encoding='latin-1')\n",
    "df_ro2018 = pd.read_csv('dataset/Solicitações Registradas na Anatel (2018-RO).csv', sep=';',encoding='latin-1')\n",
    "df_rr2018 = pd.read_csv('dataset/Solicitações Registradas na Anatel (2018-RR).csv', sep=';',encoding='latin-1')\n",
    "df_rs2018 = pd.read_csv('dataset/Solicitações Registradas na Anatel (2018-RS).csv', sep=';',encoding='latin-1')\n",
    "df_sc2018 = pd.read_csv('dataset/Solicitações Registradas na Anatel (2018-SC).csv', sep=';',encoding='latin-1')\n",
    "df_se2018 = pd.read_csv('dataset/Solicitações Registradas na Anatel (2018-SE).csv', sep=';',encoding='latin-1')\n",
    "df_sp2018 = pd.read_csv('dataset/Solicitações Registradas na Anatel (2018-SP).csv', sep=';',encoding='latin-1')\n",
    "df_to2018 = pd.read_csv('dataset/Solicitações Registradas na Anatel (2018-TO).csv', sep=';',encoding='latin-1')"
   ]
  },
  {
   "cell_type": "markdown",
   "metadata": {},
   "source": [
    "Criei os datasets separados, mas acho que não vai ter utilidade."
   ]
  },
  {
   "cell_type": "code",
   "execution_count": 11,
   "metadata": {},
   "outputs": [],
   "source": [
    "#foi criado o dataset df_anatel2016 com todos os estados para unificar as informações do ano de 2016.\n",
    "df_anatel2016 = pd.concat([df_ac2016,df_al2016,df_am2016,df_ap2016,df_ba2016,df_ce2016,df_df2016,df_es2016,\n",
    "                           df_go2016,df_ma2016,df_mg2016,df_ms2016,df_mt2016,df_nd2016,df_pa2016,df_pb2016,\n",
    "                           df_pe2016,df_pi2016,df_pr2016,df_rj2016,df_rn2016,df_ro2016,df_rr2016,df_rs2016,\n",
    "                           df_sc2016,df_se2016,df_sp2016,df_to2016]) "
   ]
  },
  {
   "cell_type": "code",
   "execution_count": 14,
   "metadata": {},
   "outputs": [],
   "source": [
    "#oi criado o dataset df_anatel2017 com todos os estados para unificar as informações do ano de 2017.\n",
    "df_anatel2017 = pd.concat([df_ac2017,df_al2017,df_am2017,df_ap2017,df_ba2017,df_ce2017,df_df2017,df_es2017,\n",
    "                           df_go2017,df_ma2017,df_mg2017,df_ms2017,df_mt2017,df_nd2017,df_pa2017,df_pb2017,\n",
    "                           df_pe2017,df_pi2017,df_pr2017,df_rj2017,df_rn2017,df_ro2017,df_rr2017,df_rs2017,\n",
    "                           df_sc2017,df_se2017,df_sp2017,df_to2017]) "
   ]
  },
  {
   "cell_type": "code",
   "execution_count": 15,
   "metadata": {},
   "outputs": [],
   "source": [
    "#oi criado o dataset df_anatel2018 com todos os estados para unificar as informações do ano de 2018.\n",
    "df_anatel2018 = pd.concat([df_ac2018,df_al2018,df_am2018,df_ap2018,df_ba2018,df_ce2018,df_df2018,df_es2018,\n",
    "                           df_go2018,df_ma2018,df_mg2018,df_ms2018,df_mt2018,df_nd2018,df_pa2018,df_pb2018,\n",
    "                           df_pe2018,df_pi2018,df_pr2018,df_rj2018,df_rn2018,df_ro2018,df_rr2018,df_rs2018,\n",
    "                           df_sc2018,df_se2018,df_sp2018,df_to2018]) "
   ]
  },
  {
   "cell_type": "markdown",
   "metadata": {},
   "source": [
    "Acho que so criando esse aqui ja resolve."
   ]
  },
  {
   "cell_type": "code",
   "execution_count": 16,
   "metadata": {},
   "outputs": [],
   "source": [
    "#criei um dataset unico com os anos de 2016,2017 e 2018.\n",
    "df_anatel = pd.concat([df_ac2016,df_al2016,df_am2016,df_ap2016,df_ba2016,df_ce2016,df_df2016,df_es2016,\n",
    "                           df_go2016,df_ma2016,df_mg2016,df_ms2016,df_mt2016,df_nd2016,df_pa2016,df_pb2016,\n",
    "                           df_pe2016,df_pi2016,df_pr2016,df_rj2016,df_rn2016,df_ro2016,df_rr2016,df_rs2016,\n",
    "                           df_sc2016,df_se2016,df_sp2016,df_to2016,\n",
    "                      df_ac2017,df_al2017,df_am2017,df_ap2017,df_ba2017,df_ce2017,df_df2017,df_es2017,\n",
    "                           df_go2017,df_ma2017,df_mg2017,df_ms2017,df_mt2017,df_nd2017,df_pa2017,df_pb2017,\n",
    "                           df_pe2017,df_pi2017,df_pr2017,df_rj2017,df_rn2017,df_ro2017,df_rr2017,df_rs2017,\n",
    "                           df_sc2017,df_se2017,df_sp2017,df_to2017,\n",
    "                      df_ac2018,df_al2018,df_am2018,df_ap2018,df_ba2018,df_ce2018,df_df2018,df_es2018,\n",
    "                           df_go2018,df_ma2018,df_mg2018,df_ms2018,df_mt2018,df_nd2018,df_pa2018,df_pb2018,\n",
    "                           df_pe2018,df_pi2018,df_pr2018,df_rj2018,df_rn2018,df_ro2018,df_rr2018,df_rs2018,\n",
    "                           df_sc2018,df_se2018,df_sp2018,df_to2018])"
   ]
  },
  {
   "cell_type": "code",
   "execution_count": 17,
   "metadata": {},
   "outputs": [
    {
     "name": "stdout",
     "output_type": "stream",
     "text": [
      "<class 'pandas.core.frame.DataFrame'>\n",
      "Int64Index: 2101218 entries, 0 to 3927\n",
      "Data columns (total 12 columns):\n",
      "DataExtracao     object\n",
      "Ano              int64\n",
      "Mes              int64\n",
      "CanalEntrada     object\n",
      "Condicao         object\n",
      "GrupoEconNorm    object\n",
      "Tipo             object\n",
      "Servico          object\n",
      "Modalidade       object\n",
      "Motivo           object\n",
      "UF               object\n",
      "QtdeSolic        int64\n",
      "dtypes: int64(3), object(9)\n",
      "memory usage: 208.4+ MB\n"
     ]
    }
   ],
   "source": [
    "df_anatel.info()"
   ]
  },
  {
   "cell_type": "code",
   "execution_count": null,
   "metadata": {},
   "outputs": [],
   "source": []
  }
 ],
 "metadata": {
  "kernelspec": {
   "display_name": "Python 3",
   "language": "python",
   "name": "python3"
  },
  "language_info": {
   "codemirror_mode": {
    "name": "ipython",
    "version": 3
   },
   "file_extension": ".py",
   "mimetype": "text/x-python",
   "name": "python",
   "nbconvert_exporter": "python",
   "pygments_lexer": "ipython3",
   "version": "3.6.5"
  }
 },
 "nbformat": 4,
 "nbformat_minor": 2
}
