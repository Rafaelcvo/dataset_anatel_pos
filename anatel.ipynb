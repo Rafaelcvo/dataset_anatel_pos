{
 "cells": [
  {
   "cell_type": "markdown",
   "metadata": {},
   "source": [
    "<h1>Analíse de dados sobre reclamações registradas na Anatel</h1>"
   ]
  },
  {
   "cell_type": "markdown",
   "metadata": {},
   "source": [
    "<p>O trabalho a seguir busca fazer uma analíse dos dados sobre os registros de reclamações, denúncias, pedidos de informação e sugestões em relação às operadoras e à Anatel.\n",
    "<p>O dataset utilizado para a analíse esta dispónivel no link http://dados.gov.br/dataset/solicitacoesregistradasnaanatel </p>\n",
    "<p>O trabalho consiste em abordar as seguintes questões:\n",
    "<ol>\n",
    "    <li>Operadoras com mais reclamações (nacional) nos 3 últimos anos(2016,2017,2018).</li>\n",
    "    <li>Operadoras com mais reclamações por estado nos 3 últimos anos(2016,2017,2018).</li>\n",
    "    <li>Ranking dos tipos de serviços com maiores reclamações por operadora, nos 3 últimos anos -total e porcentagem - (2016,2017,2018).</li>\n",
    "    <li>Canais utilizados para reclamações da Anatel (telefone, site, etc.) nos 3 últimos anos(2016,2017,2018).</li>\n",
    "    <li>As 10 maiores reclamações dos consumidores nos 3 últimos anos(2016,2017,2018).</li>\n",
    "    <li>Período de maior número de reclamações (se primeiro ou segundo semestre).</li>\n",
    "</ol>\n",
    "\n",
    "<p>Informações adicionais:</p>\n",
    "\n",
    "| Campo            | Valor                                                        |  \n",
    "|------------------|--------------------------------------------------------------|\n",
    "|Autor             |Agência Nacional de Telecomunicações - Anatel                 |   \n",
    "|Mantenedor        | Gerência de Tratamento de Solicitações de Consumidores - RCTS|   \n",
    "|Última Atualização| 8 de Maio de 2019, 17:28 (UTC-03:00)                         |  \n",
    "|Criado            |16 de Novembro de 2017, 14:34 (UTC-02:00)                     | \n",
    "|Granularidade     |mensal                                                        |\n"
   ]
  },
  {
   "cell_type": "code",
   "execution_count": 2,
   "metadata": {},
   "outputs": [],
   "source": [
    "#importando as bibliotecas\n",
    "import numpy as np\n",
    "import pandas as pd"
   ]
  },
  {
   "cell_type": "markdown",
   "metadata": {},
   "source": [
    "Os datasets da Anatel estão divididos por estados e anos. Então foi preciso unir todos os datasets dos estados de acordo com cada ano."
   ]
  },
  {
   "cell_type": "code",
   "execution_count": 3,
   "metadata": {},
   "outputs": [],
   "source": [
    "#Importando os datasets do ano de 2016\n",
    "\n",
    "df_ac2016 = pd.read_csv('dataset/Solicitações Registradas na Anatel (2016-AC).csv', sep=';', encoding='latin-1')\n",
    "df_al2016 = pd.read_csv('dataset/Solicitações Registradas na Anatel (2016-AL).csv', sep=';',encoding='latin-1')\n",
    "df_am2016 = pd.read_csv('dataset/Solicitações Registradas na Anatel (2016-AM).csv', sep=';',encoding='latin-1')\n",
    "df_ap2016 = pd.read_csv('dataset/Solicitações Registradas na Anatel (2016-AP).csv', sep=';',encoding='latin-1')\n",
    "df_ba2016 = pd.read_csv('dataset/Solicitações Registradas na Anatel (2016-BA).csv', sep=';',encoding='latin-1')\n",
    "df_ce2016 = pd.read_csv('dataset/Solicitações Registradas na Anatel (2016-CE).csv', sep=';',encoding='latin-1')\n",
    "df_df2016 = pd.read_csv('dataset/Solicitações Registradas na Anatel (2016-DF).csv', sep=';',encoding='latin-1')\n",
    "df_es2016 = pd.read_csv('dataset/Solicitações Registradas na Anatel (2016-ES).csv', sep=';',encoding='latin-1')\n",
    "df_go2016 = pd.read_csv('dataset/Solicitações Registradas na Anatel (2016-ES).csv', sep=';',encoding='latin-1')\n",
    "df_ma2016 = pd.read_csv('dataset/Solicitações Registradas na Anatel (2016-MA).csv', sep=';',encoding='latin-1')\n",
    "df_mg2016 = pd.read_csv('dataset/Solicitações Registradas na Anatel (2016-MG).csv', sep=';',encoding='latin-1')\n",
    "df_ms2016 = pd.read_csv('dataset/Solicitações Registradas na Anatel (2016-MS).csv', sep=';',encoding='latin-1')\n",
    "df_mt2016 = pd.read_csv('dataset/Solicitações Registradas na Anatel (2016-MT).csv', sep=';',encoding='latin-1')\n",
    "df_nd2016 = pd.read_csv('dataset/Solicitações Registradas na Anatel (2016-ND).csv', sep=';',encoding='latin-1')\n",
    "df_pa2016 = pd.read_csv('dataset/Solicitações Registradas na Anatel (2016-PA).csv', sep=';',encoding='latin-1')\n",
    "df_pb2016 = pd.read_csv('dataset/Solicitações Registradas na Anatel (2016-PB).csv', sep=';',encoding='latin-1')\n",
    "df_pe2016 = pd.read_csv('dataset/Solicitações Registradas na Anatel (2016-PE).csv', sep=';',encoding='latin-1')\n",
    "df_pi2016 = pd.read_csv('dataset/Solicitações Registradas na Anatel (2016-PI).csv', sep=';',encoding='latin-1')\n",
    "df_pr2016 = pd.read_csv('dataset/Solicitações Registradas na Anatel (2016-PR).csv', sep=';',encoding='latin-1')\n",
    "df_rj2016 = pd.read_csv('dataset/Solicitações Registradas na Anatel (2016-RJ).csv', sep=';',encoding='latin-1')\n",
    "df_rn2016 = pd.read_csv('dataset/Solicitações Registradas na Anatel (2016-RN).csv', sep=';',encoding='latin-1')\n",
    "df_ro2016 = pd.read_csv('dataset/Solicitações Registradas na Anatel (2016-RO).csv', sep=';',encoding='latin-1')\n",
    "df_rr2016 = pd.read_csv('dataset/Solicitações Registradas na Anatel (2016-RR).csv', sep=';',encoding='latin-1')\n",
    "df_rs2016 = pd.read_csv('dataset/Solicitações Registradas na Anatel (2016-RS).csv', sep=';',encoding='latin-1')\n",
    "df_sc2016 = pd.read_csv('dataset/Solicitações Registradas na Anatel (2016-SC).csv', sep=';',encoding='latin-1')\n",
    "df_se2016 = pd.read_csv('dataset/Solicitações Registradas na Anatel (2016-SE).csv', sep=';',encoding='latin-1')\n",
    "df_sp2016 = pd.read_csv('dataset/Solicitações Registradas na Anatel (2016-SP).csv', sep=';',encoding='latin-1')\n",
    "df_to2016 = pd.read_csv('dataset/Solicitações Registradas na Anatel (2016-TO).csv', sep=';',encoding='latin-1')\n",
    "\n",
    "#Importando os datasets do ano de 2017\n",
    "\n",
    "df_ac2017 = pd.read_csv('dataset/Solicitações Registradas na Anatel (2017-AC).csv', sep=';', encoding='latin-1')\n",
    "df_al2017 = pd.read_csv('dataset/Solicitações Registradas na Anatel (2017-AL).csv', sep=';',encoding='latin-1')\n",
    "df_am2017 = pd.read_csv('dataset/Solicitações Registradas na Anatel (2017-AM).csv', sep=';',encoding='latin-1')\n",
    "df_ap2017 = pd.read_csv('dataset/Solicitações Registradas na Anatel (2017-AP).csv', sep=';',encoding='latin-1')\n",
    "df_ba2017 = pd.read_csv('dataset/Solicitações Registradas na Anatel (2017-BA).csv', sep=';',encoding='latin-1')\n",
    "df_ce2017 = pd.read_csv('dataset/Solicitações Registradas na Anatel (2017-CE).csv', sep=';',encoding='latin-1')\n",
    "df_df2017 = pd.read_csv('dataset/Solicitações Registradas na Anatel (2017-DF).csv', sep=';',encoding='latin-1')\n",
    "df_es2017 = pd.read_csv('dataset/Solicitações Registradas na Anatel (2017-ES).csv', sep=';',encoding='latin-1')\n",
    "df_go2017 = pd.read_csv('dataset/Solicitações Registradas na Anatel (2017-ES).csv', sep=';',encoding='latin-1')\n",
    "df_ma2017 = pd.read_csv('dataset/Solicitações Registradas na Anatel (2017-MA).csv', sep=';',encoding='latin-1')\n",
    "df_mg2017 = pd.read_csv('dataset/Solicitações Registradas na Anatel (2017-MG).csv', sep=';',encoding='latin-1')\n",
    "df_ms2017 = pd.read_csv('dataset/Solicitações Registradas na Anatel (2017-MS).csv', sep=';',encoding='latin-1')\n",
    "df_mt2017 = pd.read_csv('dataset/Solicitações Registradas na Anatel (2017-MT).csv', sep=';',encoding='latin-1')\n",
    "df_nd2017 = pd.read_csv('dataset/Solicitações Registradas na Anatel (2017-ND).csv', sep=';',encoding='latin-1')\n",
    "df_pa2017 = pd.read_csv('dataset/Solicitações Registradas na Anatel (2017-PA).csv', sep=';',encoding='latin-1')\n",
    "df_pb2017 = pd.read_csv('dataset/Solicitações Registradas na Anatel (2017-PB).csv', sep=';',encoding='latin-1')\n",
    "df_pe2017 = pd.read_csv('dataset/Solicitações Registradas na Anatel (2017-PE).csv', sep=';',encoding='latin-1')\n",
    "df_pi2017 = pd.read_csv('dataset/Solicitações Registradas na Anatel (2017-PI).csv', sep=';',encoding='latin-1')\n",
    "df_pr2017 = pd.read_csv('dataset/Solicitações Registradas na Anatel (2017-PR).csv', sep=';',encoding='latin-1')\n",
    "df_rj2017 = pd.read_csv('dataset/Solicitações Registradas na Anatel (2017-RJ).csv', sep=';',encoding='latin-1')\n",
    "df_rn2017 = pd.read_csv('dataset/Solicitações Registradas na Anatel (2017-RN).csv', sep=';',encoding='latin-1')\n",
    "df_ro2017 = pd.read_csv('dataset/Solicitações Registradas na Anatel (2017-RO).csv', sep=';',encoding='latin-1')\n",
    "df_rr2017 = pd.read_csv('dataset/Solicitações Registradas na Anatel (2017-RR).csv', sep=';',encoding='latin-1')\n",
    "df_rs2017 = pd.read_csv('dataset/Solicitações Registradas na Anatel (2017-RS).csv', sep=';',encoding='latin-1')\n",
    "df_sc2017 = pd.read_csv('dataset/Solicitações Registradas na Anatel (2017-SC).csv', sep=';',encoding='latin-1')\n",
    "df_se2017 = pd.read_csv('dataset/Solicitações Registradas na Anatel (2017-SE).csv', sep=';',encoding='latin-1')\n",
    "df_sp2017 = pd.read_csv('dataset/Solicitações Registradas na Anatel (2017-SP).csv', sep=';',encoding='latin-1')\n",
    "df_to2017 = pd.read_csv('dataset/Solicitações Registradas na Anatel (2017-TO).csv', sep=';',encoding='latin-1')\n",
    "\n",
    "#Importando os datasets do ano de 2018\n",
    "\n",
    "df_ac2018 = pd.read_csv('dataset/Solicitações Registradas na Anatel (2018-AC).csv', sep=';', encoding='latin-1')\n",
    "df_al2018 = pd.read_csv('dataset/Solicitações Registradas na Anatel (2018-AL).csv', sep=';',encoding='latin-1')\n",
    "df_am2018 = pd.read_csv('dataset/Solicitações Registradas na Anatel (2018-AM).csv', sep=';',encoding='latin-1')\n",
    "df_ap2018 = pd.read_csv('dataset/Solicitações Registradas na Anatel (2018-AP).csv', sep=';',encoding='latin-1')\n",
    "df_ba2018 = pd.read_csv('dataset/Solicitações Registradas na Anatel (2018-BA).csv', sep=';',encoding='latin-1')\n",
    "df_ce2018 = pd.read_csv('dataset/Solicitações Registradas na Anatel (2018-CE).csv', sep=';',encoding='latin-1')\n",
    "df_df2018 = pd.read_csv('dataset/Solicitações Registradas na Anatel (2018-DF).csv', sep=';',encoding='latin-1')\n",
    "df_es2018 = pd.read_csv('dataset/Solicitações Registradas na Anatel (2018-ES).csv', sep=';',encoding='latin-1')\n",
    "df_go2018 = pd.read_csv('dataset/Solicitações Registradas na Anatel (2018-ES).csv', sep=';',encoding='latin-1')\n",
    "df_ma2018 = pd.read_csv('dataset/Solicitações Registradas na Anatel (2018-MA).csv', sep=';',encoding='latin-1')\n",
    "df_mg2018 = pd.read_csv('dataset/Solicitações Registradas na Anatel (2018-MG).csv', sep=';',encoding='latin-1')\n",
    "df_ms2018 = pd.read_csv('dataset/Solicitações Registradas na Anatel (2018-MS).csv', sep=';',encoding='latin-1')\n",
    "df_mt2018 = pd.read_csv('dataset/Solicitações Registradas na Anatel (2018-MT).csv', sep=';',encoding='latin-1')\n",
    "df_nd2018 = pd.read_csv('dataset/Solicitações Registradas na Anatel (2018-ND).csv', sep=';',encoding='latin-1')\n",
    "df_pa2018 = pd.read_csv('dataset/Solicitações Registradas na Anatel (2018-PA).csv', sep=';',encoding='latin-1')\n",
    "df_pb2018 = pd.read_csv('dataset/Solicitações Registradas na Anatel (2018-PB).csv', sep=';',encoding='latin-1')\n",
    "df_pe2018 = pd.read_csv('dataset/Solicitações Registradas na Anatel (2018-PE).csv', sep=';',encoding='latin-1')\n",
    "df_pi2018 = pd.read_csv('dataset/Solicitações Registradas na Anatel (2018-PI).csv', sep=';',encoding='latin-1')\n",
    "df_pr2018 = pd.read_csv('dataset/Solicitações Registradas na Anatel (2018-PR).csv', sep=';',encoding='latin-1')\n",
    "df_rj2018 = pd.read_csv('dataset/Solicitações Registradas na Anatel (2018-RJ).csv', sep=';',encoding='latin-1')\n",
    "df_rn2018 = pd.read_csv('dataset/Solicitações Registradas na Anatel (2018-RN).csv', sep=';',encoding='latin-1')\n",
    "df_ro2018 = pd.read_csv('dataset/Solicitações Registradas na Anatel (2018-RO).csv', sep=';',encoding='latin-1')\n",
    "df_rr2018 = pd.read_csv('dataset/Solicitações Registradas na Anatel (2018-RR).csv', sep=';',encoding='latin-1')\n",
    "df_rs2018 = pd.read_csv('dataset/Solicitações Registradas na Anatel (2018-RS).csv', sep=';',encoding='latin-1')\n",
    "df_sc2018 = pd.read_csv('dataset/Solicitações Registradas na Anatel (2018-SC).csv', sep=';',encoding='latin-1')\n",
    "df_se2018 = pd.read_csv('dataset/Solicitações Registradas na Anatel (2018-SE).csv', sep=';',encoding='latin-1')\n",
    "df_sp2018 = pd.read_csv('dataset/Solicitações Registradas na Anatel (2018-SP).csv', sep=';',encoding='latin-1')\n",
    "df_to2018 = pd.read_csv('dataset/Solicitações Registradas na Anatel (2018-TO).csv', sep=';',encoding='latin-1')"
   ]
  },
  {
   "cell_type": "code",
   "execution_count": 4,
   "metadata": {},
   "outputs": [],
   "source": [
    "#Foi criado um dataset unico com os anos de 2016,2017 e 2018.\n",
    "\n",
    "df_anatel = pd.concat([df_ac2016,df_al2016,df_am2016,df_ap2016,df_ba2016,df_ce2016,df_df2016,df_es2016,\n",
    "                           df_go2016,df_ma2016,df_mg2016,df_ms2016,df_mt2016,df_nd2016,df_pa2016,df_pb2016,\n",
    "                           df_pe2016,df_pi2016,df_pr2016,df_rj2016,df_rn2016,df_ro2016,df_rr2016,df_rs2016,\n",
    "                           df_sc2016,df_se2016,df_sp2016,df_to2016,df_ac2017,df_al2017,df_am2017,df_ap2017,\n",
    "                           df_ba2017,df_ce2017,df_df2017,df_es2017,df_go2017,df_ma2017,df_mg2017,df_ms2017,\n",
    "                           df_mt2017,df_nd2017,df_pa2017,df_pb2017,df_pe2017,df_pi2017,df_pr2017,df_rj2017,\n",
    "                           df_rn2017,df_ro2017,df_rr2017,df_rs2017,df_sc2017,df_se2017,df_sp2017,df_to2017,\n",
    "                           df_ac2018,df_al2018,df_am2018,df_ap2018,df_ba2018,df_ce2018,df_df2018,df_es2018,\n",
    "                           df_go2018,df_ma2018,df_mg2018,df_ms2018,df_mt2018,df_nd2018,df_pa2018,df_pb2018,\n",
    "                           df_pe2018,df_pi2018,df_pr2018,df_rj2018,df_rn2018,df_ro2018,df_rr2018,df_rs2018,\n",
    "                           df_sc2018,df_se2018,df_sp2018,df_to2018])"
   ]
  },
  {
   "cell_type": "markdown",
   "metadata": {},
   "source": [
    "## Inciando o tratamento dos dados"
   ]
  },
  {
   "cell_type": "code",
   "execution_count": 50,
   "metadata": {},
   "outputs": [
    {
     "data": {
      "text/plain": [
       "Ano              0\n",
       "CanalEntrada     0\n",
       "Condicao         0\n",
       "GrupoEconNorm    0\n",
       "Tipo             0\n",
       "Servico          0\n",
       "Modalidade       0\n",
       "Motivo           0\n",
       "QtdeSolic        0\n",
       "dtype: int64"
      ]
     },
     "execution_count": 50,
     "metadata": {},
     "output_type": "execute_result"
    }
   ],
   "source": [
    "#verificando a quantidade de dados nulos.\n",
    "df_anatel.isna().sum()"
   ]
  },
  {
   "cell_type": "code",
   "execution_count": 6,
   "metadata": {},
   "outputs": [],
   "source": [
    "#Removendo as colunas que nao seram utilizadas.\n",
    "\n",
    "df_anatel.drop(['DataExtracao','Mes','UF'],axis=1,inplace=True)"
   ]
  },
  {
   "cell_type": "code",
   "execution_count": 7,
   "metadata": {},
   "outputs": [
    {
     "data": {
      "text/plain": [
       "Index(['Ano', 'CanalEntrada', 'Condicao', 'GrupoEconNorm', 'Tipo', 'Servico',\n",
       "       'Modalidade', 'Motivo', 'QtdeSolic'],\n",
       "      dtype='object')"
      ]
     },
     "execution_count": 7,
     "metadata": {},
     "output_type": "execute_result"
    }
   ],
   "source": [
    "#verificando as colunas existentes\n",
    "\n",
    "df_anatel.columns"
   ]
  },
  {
   "cell_type": "code",
   "execution_count": 37,
   "metadata": {},
   "outputs": [
    {
     "data": {
      "text/plain": [
       "array(['Aplicativo Móvel', 'Call Center', 'Fale Conosco',\n",
       "       'Atendimento Pessoal', 'Fax', 'E-mail', 'Correspondência', 'TTS',\n",
       "       'SOA', 'SIC'], dtype=object)"
      ]
     },
     "execution_count": 37,
     "metadata": {},
     "output_type": "execute_result"
    }
   ],
   "source": [
    "#foi retirado os espaços em branco na coluna CanalEntrada.\n",
    "\n",
    "df_anatel['CanalEntrada'] = df_anatel['CanalEntrada'].str.strip()\n",
    "df_anatel['CanalEntrada'].unique()"
   ]
  },
  {
   "cell_type": "markdown",
   "metadata": {},
   "source": [
    "## 3. Ranking dos serviços com maiores reclamações por operadora, nos 3 últimos anos -total e porcentagem - (2016,2017,2018)."
   ]
  },
  {
   "cell_type": "code",
   "execution_count": null,
   "metadata": {},
   "outputs": [],
   "source": [
    "#ordenação por ano e Serviço - ordem crescente\n",
    "\n",
    "ordena_ano_servico = df_anatel.sort_values(['Ano','Servico'])\n",
    "ordena_ano_servico.head()"
   ]
  },
  {
   "cell_type": "code",
   "execution_count": null,
   "metadata": {},
   "outputs": [],
   "source": [
    "#Agrupando e contando serviço\n",
    "\n",
    "agrupa_servico = df_anatel.groupby('Servico').count().sort_values(['Ano'])\n",
    "agrupa_servico"
   ]
  },
  {
   "cell_type": "code",
   "execution_count": null,
   "metadata": {},
   "outputs": [],
   "source": [
    "#Agrupando e contando serviço por ano\n",
    "\n",
    "agrupa_servico=df_anatel.groupby('Ano').count().sort_values(['Servico'])\n",
    "agrupa_servico"
   ]
  },
  {
   "cell_type": "code",
   "execution_count": null,
   "metadata": {},
   "outputs": [],
   "source": [
    "#Agrupando e contando grupo economico\n",
    "\n",
    "agrupa_grupo_econ_norm=df_anatel.groupby('GrupoEconNorm').count().sort_values(['Ano'])\n",
    "agrupa_grupo_econ_norm"
   ]
  },
  {
   "cell_type": "code",
   "execution_count": null,
   "metadata": {},
   "outputs": [],
   "source": [
    "#Obtendo tabela só com Ano, Serviço e Grupo Econômico\n",
    "\n",
    "filtro_dados = df_anatel.filter(['Ano', 'Servico', 'GrupoEconNorm'])\n",
    "filtro_dados"
   ]
  },
  {
   "cell_type": "code",
   "execution_count": null,
   "metadata": {},
   "outputs": [],
   "source": [
    "#agrupando por grupo econômico e contando quantidade de registros\n",
    "\n",
    "df_anatel.groupby('GrupoEconNorm')['GrupoEconNorm'].count().head(20)"
   ]
  },
  {
   "cell_type": "code",
   "execution_count": null,
   "metadata": {},
   "outputs": [],
   "source": [
    "#agrupando por grupo econômico e contando quantidade de registrose ordenando em ordem decrescente\n",
    "\n",
    "street_names_cleaned = df_anatel.GrupoEconNorm.str.strip()\n",
    "street_names_cleaned.groupby(street_names_cleaned).count().head(20)\n",
    "\n",
    "count = street_names_cleaned.groupby(street_names_cleaned).count()\n",
    "count.sort_values(ascending=False).head(20)"
   ]
  },
  {
   "cell_type": "markdown",
   "metadata": {},
   "source": [
    "## 4. Canais utilizados para reclamações da Anatel (telefone, site, etc.) nos 3 últimos anos(2016,2017,2018)."
   ]
  },
  {
   "cell_type": "code",
   "execution_count": 41,
   "metadata": {},
   "outputs": [],
   "source": [
    "#Calculo da quantidade total de reclamaçoes por canais e em seguida calculado de cada ano.\n",
    "\n",
    "canaisTotal = df_anatel['CanalEntrada'].value_counts()\n",
    "canais16 = df_anatel[df_anatel['Ano']==2016]['CanalEntrada'].value_counts()\n",
    "canais17 = df_anatel[df_anatel['Ano']==2017]['CanalEntrada'].value_counts()\n",
    "canais18 = df_anatel[df_anatel['Ano']==2018]['CanalEntrada'].value_counts()"
   ]
  },
  {
   "cell_type": "code",
   "execution_count": 79,
   "metadata": {},
   "outputs": [
    {
     "data": {
      "text/html": [
       "<div>\n",
       "<style scoped>\n",
       "    .dataframe tbody tr th:only-of-type {\n",
       "        vertical-align: middle;\n",
       "    }\n",
       "\n",
       "    .dataframe tbody tr th {\n",
       "        vertical-align: top;\n",
       "    }\n",
       "\n",
       "    .dataframe thead th {\n",
       "        text-align: right;\n",
       "    }\n",
       "</style>\n",
       "<table border=\"1\" class=\"dataframe\">\n",
       "  <thead>\n",
       "    <tr style=\"text-align: right;\">\n",
       "      <th></th>\n",
       "      <th>2016</th>\n",
       "      <th>2017</th>\n",
       "      <th>2018</th>\n",
       "      <th>Total</th>\n",
       "    </tr>\n",
       "  </thead>\n",
       "  <tbody>\n",
       "    <tr>\n",
       "      <th>Call Center</th>\n",
       "      <td>341246</td>\n",
       "      <td>304088</td>\n",
       "      <td>279550</td>\n",
       "      <td>924884</td>\n",
       "    </tr>\n",
       "    <tr>\n",
       "      <th>Fale Conosco</th>\n",
       "      <td>284962</td>\n",
       "      <td>253501</td>\n",
       "      <td>247202</td>\n",
       "      <td>785665</td>\n",
       "    </tr>\n",
       "    <tr>\n",
       "      <th>Aplicativo Móvel</th>\n",
       "      <td>112970</td>\n",
       "      <td>123632</td>\n",
       "      <td>126816</td>\n",
       "      <td>363418</td>\n",
       "    </tr>\n",
       "    <tr>\n",
       "      <th>Atendimento Pessoal</th>\n",
       "      <td>10921</td>\n",
       "      <td>9197</td>\n",
       "      <td>6486</td>\n",
       "      <td>26604</td>\n",
       "    </tr>\n",
       "    <tr>\n",
       "      <th>Correspondência</th>\n",
       "      <td>83</td>\n",
       "      <td>94</td>\n",
       "      <td>56</td>\n",
       "      <td>233</td>\n",
       "    </tr>\n",
       "    <tr>\n",
       "      <th>Fax</th>\n",
       "      <td>126</td>\n",
       "      <td>54</td>\n",
       "      <td>2</td>\n",
       "      <td>182</td>\n",
       "    </tr>\n",
       "    <tr>\n",
       "      <th>E-mail</th>\n",
       "      <td>39</td>\n",
       "      <td>37</td>\n",
       "      <td>15</td>\n",
       "      <td>91</td>\n",
       "    </tr>\n",
       "    <tr>\n",
       "      <th>TTS</th>\n",
       "      <td>54</td>\n",
       "      <td>29</td>\n",
       "      <td>7</td>\n",
       "      <td>90</td>\n",
       "    </tr>\n",
       "    <tr>\n",
       "      <th>SIC</th>\n",
       "      <td>13</td>\n",
       "      <td>13</td>\n",
       "      <td>17</td>\n",
       "      <td>43</td>\n",
       "    </tr>\n",
       "    <tr>\n",
       "      <th>SOA</th>\n",
       "      <td>4</td>\n",
       "      <td>4</td>\n",
       "      <td>0</td>\n",
       "      <td>8</td>\n",
       "    </tr>\n",
       "  </tbody>\n",
       "</table>\n",
       "</div>"
      ],
      "text/plain": [
       "                       2016    2017    2018   Total\n",
       "Call Center          341246  304088  279550  924884\n",
       "Fale Conosco         284962  253501  247202  785665\n",
       "Aplicativo Móvel     112970  123632  126816  363418\n",
       "Atendimento Pessoal   10921    9197    6486   26604\n",
       "Correspondência          83      94      56     233\n",
       "Fax                     126      54       2     182\n",
       "E-mail                   39      37      15      91\n",
       "TTS                      54      29       7      90\n",
       "SIC                      13      13      17      43\n",
       "SOA                       4       4       0       8"
      ]
     },
     "execution_count": 79,
     "metadata": {},
     "output_type": "execute_result"
    }
   ],
   "source": [
    "#Crianção de um novo dataframe com as informações do numero de reclamações pelo ano e o total de acordo com\n",
    "#cada canal.\n",
    "\n",
    "df_canais = {2016:canais16,2017:canais17,2018:canais18,'Total':canaisTotal}\n",
    "df_canais = pd.DataFrame(data=df_canais)\n",
    "df_canais = df_canais.fillna(0)\n",
    "df_canais[2018] = df_canais[2018].astype('int64')\n",
    "df_canais.sort_values(by='Total',ascending=False)"
   ]
  },
  {
   "cell_type": "code",
   "execution_count": null,
   "metadata": {},
   "outputs": [],
   "source": []
  }
 ],
 "metadata": {
  "kernelspec": {
   "display_name": "Python 3",
   "language": "python",
   "name": "python3"
  },
  "language_info": {
   "codemirror_mode": {
    "name": "ipython",
    "version": 3
   },
   "file_extension": ".py",
   "mimetype": "text/x-python",
   "name": "python",
   "nbconvert_exporter": "python",
   "pygments_lexer": "ipython3",
   "version": "3.6.5"
  }
 },
 "nbformat": 4,
 "nbformat_minor": 2
}
